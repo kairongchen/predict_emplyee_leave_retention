{
 "cells": [
  {
   "cell_type": "markdown",
   "id": "fc2ca668",
   "metadata": {},
   "source": [
    "### Module 4 - Project Delivery\n",
    "\n",
    "\n",
    "**Components in this Project:**\n",
    "- Exploratory Analysis: Chasing Aha! Moments\n",
    "- ABT Construction: Building a Base for Successful Modeling\n",
    "- Classification Algorithms: The Value of Versatility\n",
    "- Model Evaluation: Sophisticated Performance Metrics, AUROC\n",
    "- <span style=\"color:royalblue\">Project Delivery: From Raw Data to Final Prediction</span>\n",
    "\n",
    "\n",
    "Kairong Chen\n",
    "\n",
    "Lasted edited: 01/30/2022\n",
    "\n",
    "\n",
    "#### This Module includes:\n",
    "1. Confirm Your Model\n",
    "    - Load the original analytical base table that was used to train the model\n",
    "    - Split it into the same training and test sets (with the same random seed)\n",
    "    - See if we get the same AUROC on the test set as we got in the previous module\n",
    "2. Write Pre-Modeling Functions\n",
    "    - clean_data(): from Module 2: ABT Construction\n",
    "    - engineer_features(): from Module 2: ABT Construction\n",
    "3. Construct Custom Model Class\n",
    "    - `self.__init__()`\n",
    "    - Functions in classes must have `self` as the first argument\n",
    "4. Keep it in Jupyter Notebook\n",
    "\n",
    "\n",
    "\n",
    "#### Important Concepts"
   ]
  },
  {
   "cell_type": "code",
   "execution_count": 1,
   "id": "c40865f5",
   "metadata": {},
   "outputs": [
    {
     "data": {
      "application/javascript": [
       "\n",
       "            setTimeout(function() {\n",
       "                var nbb_cell_id = 1;\n",
       "                var nbb_unformatted_code = \"%load_ext nb_black\\n# NumPy for numerical computing\\nimport numpy as np\\n\\n# Pandas for DataFrames\\nimport pandas as pd\\n\\npd.set_option(\\\"display.max_columns\\\", 100)\\n\\n# Pickle for reading model files\\nimport pickle\\n\\n# Scikit-Learn's train_test_split function\\nfrom sklearn.model_selection import train_test_split\\n\\n# Area Under ROC Curve\\nfrom sklearn.metrics import roc_auc_score\";\n",
       "                var nbb_formatted_code = \"%load_ext nb_black\\n# NumPy for numerical computing\\nimport numpy as np\\n\\n# Pandas for DataFrames\\nimport pandas as pd\\n\\npd.set_option(\\\"display.max_columns\\\", 100)\\n\\n# Pickle for reading model files\\nimport pickle\\n\\n# Scikit-Learn's train_test_split function\\nfrom sklearn.model_selection import train_test_split\\n\\n# Area Under ROC Curve\\nfrom sklearn.metrics import roc_auc_score\";\n",
       "                var nbb_cells = Jupyter.notebook.get_cells();\n",
       "                for (var i = 0; i < nbb_cells.length; ++i) {\n",
       "                    if (nbb_cells[i].input_prompt_number == nbb_cell_id) {\n",
       "                        if (nbb_cells[i].get_text() == nbb_unformatted_code) {\n",
       "                             nbb_cells[i].set_text(nbb_formatted_code);\n",
       "                        }\n",
       "                        break;\n",
       "                    }\n",
       "                }\n",
       "            }, 500);\n",
       "            "
      ],
      "text/plain": [
       "<IPython.core.display.Javascript object>"
      ]
     },
     "metadata": {},
     "output_type": "display_data"
    }
   ],
   "source": [
    "%load_ext nb_black\n",
    "# NumPy for numerical computing\n",
    "import numpy as np\n",
    "\n",
    "# Pandas for DataFrames\n",
    "import pandas as pd\n",
    "\n",
    "pd.set_option(\"display.max_columns\", 100)\n",
    "\n",
    "# Pickle for reading model files\n",
    "import pickle\n",
    "\n",
    "# Scikit-Learn's train_test_split function\n",
    "from sklearn.model_selection import train_test_split\n",
    "\n",
    "# Area Under ROC Curve\n",
    "from sklearn.metrics import roc_auc_score"
   ]
  },
  {
   "cell_type": "code",
   "execution_count": 2,
   "id": "241d4350",
   "metadata": {},
   "outputs": [
    {
     "data": {
      "application/javascript": [
       "\n",
       "            setTimeout(function() {\n",
       "                var nbb_cell_id = 2;\n",
       "                var nbb_unformatted_code = \"# Load final_model.pkl as model\\nwith open(\\\"final_model.pkl\\\", \\\"rb\\\") as f:\\n    clf = pickle.load(f)\";\n",
       "                var nbb_formatted_code = \"# Load final_model.pkl as model\\nwith open(\\\"final_model.pkl\\\", \\\"rb\\\") as f:\\n    clf = pickle.load(f)\";\n",
       "                var nbb_cells = Jupyter.notebook.get_cells();\n",
       "                for (var i = 0; i < nbb_cells.length; ++i) {\n",
       "                    if (nbb_cells[i].input_prompt_number == nbb_cell_id) {\n",
       "                        if (nbb_cells[i].get_text() == nbb_unformatted_code) {\n",
       "                             nbb_cells[i].set_text(nbb_formatted_code);\n",
       "                        }\n",
       "                        break;\n",
       "                    }\n",
       "                }\n",
       "            }, 500);\n",
       "            "
      ],
      "text/plain": [
       "<IPython.core.display.Javascript object>"
      ]
     },
     "metadata": {},
     "output_type": "display_data"
    }
   ],
   "source": [
    "# Load final_model.pkl as model\n",
    "with open(\"final_model.pkl\", \"rb\") as f:\n",
    "    clf = pickle.load(f)"
   ]
  },
  {
   "cell_type": "markdown",
   "id": "f20d9adf",
   "metadata": {},
   "source": [
    "#### Confirm the Model"
   ]
  },
  {
   "cell_type": "code",
   "execution_count": 3,
   "id": "298b80f9",
   "metadata": {},
   "outputs": [
    {
     "name": "stdout",
     "output_type": "stream",
     "text": [
      "Pipeline(steps=[('standardscaler', StandardScaler()),\n",
      "                ('randomforestclassifier',\n",
      "                 RandomForestClassifier(max_features=0.33, random_state=123))])\n"
     ]
    },
    {
     "data": {
      "application/javascript": [
       "\n",
       "            setTimeout(function() {\n",
       "                var nbb_cell_id = 3;\n",
       "                var nbb_unformatted_code = \"# Display model object\\nprint( clf )\";\n",
       "                var nbb_formatted_code = \"# Display model object\\nprint(clf)\";\n",
       "                var nbb_cells = Jupyter.notebook.get_cells();\n",
       "                for (var i = 0; i < nbb_cells.length; ++i) {\n",
       "                    if (nbb_cells[i].input_prompt_number == nbb_cell_id) {\n",
       "                        if (nbb_cells[i].get_text() == nbb_unformatted_code) {\n",
       "                             nbb_cells[i].set_text(nbb_formatted_code);\n",
       "                        }\n",
       "                        break;\n",
       "                    }\n",
       "                }\n",
       "            }, 500);\n",
       "            "
      ],
      "text/plain": [
       "<IPython.core.display.Javascript object>"
      ]
     },
     "metadata": {},
     "output_type": "display_data"
    }
   ],
   "source": [
    "# Display model object\n",
    "print( clf )\n"
   ]
  },
  {
   "cell_type": "code",
   "execution_count": 4,
   "id": "a2df8f1d",
   "metadata": {},
   "outputs": [
    {
     "data": {
      "application/javascript": [
       "\n",
       "            setTimeout(function() {\n",
       "                var nbb_cell_id = 4;\n",
       "                var nbb_unformatted_code = \"# Load analytical base table used in Module 4\\nabt = pd.read_csv(\\\"analytical_base_table.csv\\\")\";\n",
       "                var nbb_formatted_code = \"# Load analytical base table used in Module 4\\nabt = pd.read_csv(\\\"analytical_base_table.csv\\\")\";\n",
       "                var nbb_cells = Jupyter.notebook.get_cells();\n",
       "                for (var i = 0; i < nbb_cells.length; ++i) {\n",
       "                    if (nbb_cells[i].input_prompt_number == nbb_cell_id) {\n",
       "                        if (nbb_cells[i].get_text() == nbb_unformatted_code) {\n",
       "                             nbb_cells[i].set_text(nbb_formatted_code);\n",
       "                        }\n",
       "                        break;\n",
       "                    }\n",
       "                }\n",
       "            }, 500);\n",
       "            "
      ],
      "text/plain": [
       "<IPython.core.display.Javascript object>"
      ]
     },
     "metadata": {},
     "output_type": "display_data"
    }
   ],
   "source": [
    "# Load analytical base table used in Module 4\n",
    "abt = pd.read_csv(\"analytical_base_table.csv\")"
   ]
  },
  {
   "cell_type": "code",
   "execution_count": 5,
   "id": "3c82b8a1",
   "metadata": {},
   "outputs": [
    {
     "data": {
      "application/javascript": [
       "\n",
       "            setTimeout(function() {\n",
       "                var nbb_cell_id = 5;\n",
       "                var nbb_unformatted_code = \"# Create separate object for target variable\\ny = abt.status\\n\\n# Create separate object for input features\\nX = abt.drop(\\\"status\\\", axis=1)\\n\\n# Split X and y into train and test sets\\nX_train, X_test, y_train, y_test = train_test_split(\\n    X, y, test_size=0.2, random_state=1234, stratify=abt.status\\n)\";\n",
       "                var nbb_formatted_code = \"# Create separate object for target variable\\ny = abt.status\\n\\n# Create separate object for input features\\nX = abt.drop(\\\"status\\\", axis=1)\\n\\n# Split X and y into train and test sets\\nX_train, X_test, y_train, y_test = train_test_split(\\n    X, y, test_size=0.2, random_state=1234, stratify=abt.status\\n)\";\n",
       "                var nbb_cells = Jupyter.notebook.get_cells();\n",
       "                for (var i = 0; i < nbb_cells.length; ++i) {\n",
       "                    if (nbb_cells[i].input_prompt_number == nbb_cell_id) {\n",
       "                        if (nbb_cells[i].get_text() == nbb_unformatted_code) {\n",
       "                             nbb_cells[i].set_text(nbb_formatted_code);\n",
       "                        }\n",
       "                        break;\n",
       "                    }\n",
       "                }\n",
       "            }, 500);\n",
       "            "
      ],
      "text/plain": [
       "<IPython.core.display.Javascript object>"
      ]
     },
     "metadata": {},
     "output_type": "display_data"
    }
   ],
   "source": [
    "# Create separate object for target variable\n",
    "y = abt.status\n",
    "\n",
    "# Create separate object for input features\n",
    "X = abt.drop(\"status\", axis=1)\n",
    "\n",
    "# Split X and y into train and test sets\n",
    "X_train, X_test, y_train, y_test = train_test_split(\n",
    "    X, y, test_size=0.2, random_state=1234, stratify=abt.status\n",
    ")"
   ]
  },
  {
   "cell_type": "code",
   "execution_count": 6,
   "id": "0354d2b7",
   "metadata": {},
   "outputs": [
    {
     "name": "stdout",
     "output_type": "stream",
     "text": [
      "AUROC: 0.9915194952019338\n"
     ]
    },
    {
     "data": {
      "application/javascript": [
       "\n",
       "            setTimeout(function() {\n",
       "                var nbb_cell_id = 6;\n",
       "                var nbb_unformatted_code = \"# Predict X_test\\npred = clf.predict_proba(X_test)\\n\\n# Get just the prediction for the positive class (1)\\npred = [p[1] for p in pred]\\n\\n# Print AUROC\\nprint(\\\"AUROC:\\\", roc_auc_score(y_test, pred))\";\n",
       "                var nbb_formatted_code = \"# Predict X_test\\npred = clf.predict_proba(X_test)\\n\\n# Get just the prediction for the positive class (1)\\npred = [p[1] for p in pred]\\n\\n# Print AUROC\\nprint(\\\"AUROC:\\\", roc_auc_score(y_test, pred))\";\n",
       "                var nbb_cells = Jupyter.notebook.get_cells();\n",
       "                for (var i = 0; i < nbb_cells.length; ++i) {\n",
       "                    if (nbb_cells[i].input_prompt_number == nbb_cell_id) {\n",
       "                        if (nbb_cells[i].get_text() == nbb_unformatted_code) {\n",
       "                             nbb_cells[i].set_text(nbb_formatted_code);\n",
       "                        }\n",
       "                        break;\n",
       "                    }\n",
       "                }\n",
       "            }, 500);\n",
       "            "
      ],
      "text/plain": [
       "<IPython.core.display.Javascript object>"
      ]
     },
     "metadata": {},
     "output_type": "display_data"
    }
   ],
   "source": [
    "# Predict X_test\n",
    "pred = clf.predict_proba(X_test)\n",
    "\n",
    "# Get just the prediction for the positive class (1)\n",
    "pred = [p[1] for p in pred]\n",
    "\n",
    "# Print AUROC\n",
    "print(\"AUROC:\", roc_auc_score(y_test, pred))"
   ]
  },
  {
   "cell_type": "markdown",
   "id": "d11558d9",
   "metadata": {},
   "source": [
    "#### Write Pre-Modeling Functions"
   ]
  },
  {
   "cell_type": "code",
   "execution_count": 7,
   "id": "bd1e28f2",
   "metadata": {},
   "outputs": [
    {
     "data": {
      "text/html": [
       "<div>\n",
       "<style scoped>\n",
       "    .dataframe tbody tr th:only-of-type {\n",
       "        vertical-align: middle;\n",
       "    }\n",
       "\n",
       "    .dataframe tbody tr th {\n",
       "        vertical-align: top;\n",
       "    }\n",
       "\n",
       "    .dataframe thead th {\n",
       "        text-align: right;\n",
       "    }\n",
       "</style>\n",
       "<table border=\"1\" class=\"dataframe\">\n",
       "  <thead>\n",
       "    <tr style=\"text-align: right;\">\n",
       "      <th></th>\n",
       "      <th>avg_monthly_hrs</th>\n",
       "      <th>department</th>\n",
       "      <th>filed_complaint</th>\n",
       "      <th>last_evaluation</th>\n",
       "      <th>n_projects</th>\n",
       "      <th>recently_promoted</th>\n",
       "      <th>salary</th>\n",
       "      <th>satisfaction</th>\n",
       "      <th>tenure</th>\n",
       "    </tr>\n",
       "  </thead>\n",
       "  <tbody>\n",
       "    <tr>\n",
       "      <th>0</th>\n",
       "      <td>228</td>\n",
       "      <td>management</td>\n",
       "      <td>NaN</td>\n",
       "      <td>0.735618</td>\n",
       "      <td>2</td>\n",
       "      <td>NaN</td>\n",
       "      <td>high</td>\n",
       "      <td>0.805661</td>\n",
       "      <td>3.0</td>\n",
       "    </tr>\n",
       "    <tr>\n",
       "      <th>1</th>\n",
       "      <td>229</td>\n",
       "      <td>product</td>\n",
       "      <td>NaN</td>\n",
       "      <td>1.000000</td>\n",
       "      <td>4</td>\n",
       "      <td>NaN</td>\n",
       "      <td>low</td>\n",
       "      <td>0.719961</td>\n",
       "      <td>4.0</td>\n",
       "    </tr>\n",
       "    <tr>\n",
       "      <th>2</th>\n",
       "      <td>196</td>\n",
       "      <td>sales</td>\n",
       "      <td>1.0</td>\n",
       "      <td>0.557426</td>\n",
       "      <td>4</td>\n",
       "      <td>NaN</td>\n",
       "      <td>low</td>\n",
       "      <td>0.749835</td>\n",
       "      <td>2.0</td>\n",
       "    </tr>\n",
       "    <tr>\n",
       "      <th>3</th>\n",
       "      <td>207</td>\n",
       "      <td>IT</td>\n",
       "      <td>NaN</td>\n",
       "      <td>0.715171</td>\n",
       "      <td>3</td>\n",
       "      <td>NaN</td>\n",
       "      <td>high</td>\n",
       "      <td>0.987447</td>\n",
       "      <td>3.0</td>\n",
       "    </tr>\n",
       "    <tr>\n",
       "      <th>4</th>\n",
       "      <td>129</td>\n",
       "      <td>management</td>\n",
       "      <td>NaN</td>\n",
       "      <td>0.484818</td>\n",
       "      <td>2</td>\n",
       "      <td>NaN</td>\n",
       "      <td>low</td>\n",
       "      <td>0.441219</td>\n",
       "      <td>3.0</td>\n",
       "    </tr>\n",
       "  </tbody>\n",
       "</table>\n",
       "</div>"
      ],
      "text/plain": [
       "   avg_monthly_hrs  department  filed_complaint  last_evaluation  n_projects  \\\n",
       "0              228  management              NaN         0.735618           2   \n",
       "1              229     product              NaN         1.000000           4   \n",
       "2              196       sales              1.0         0.557426           4   \n",
       "3              207          IT              NaN         0.715171           3   \n",
       "4              129  management              NaN         0.484818           2   \n",
       "\n",
       "   recently_promoted salary  satisfaction  tenure  \n",
       "0                NaN   high      0.805661     3.0  \n",
       "1                NaN    low      0.719961     4.0  \n",
       "2                NaN    low      0.749835     2.0  \n",
       "3                NaN   high      0.987447     3.0  \n",
       "4                NaN    low      0.441219     3.0  "
      ]
     },
     "execution_count": 7,
     "metadata": {},
     "output_type": "execute_result"
    },
    {
     "data": {
      "application/javascript": [
       "\n",
       "            setTimeout(function() {\n",
       "                var nbb_cell_id = 7;\n",
       "                var nbb_unformatted_code = \"raw_data = pd.read_csv(\\\"unseen_employee_data.csv\\\")\\n\\nraw_data.head()\";\n",
       "                var nbb_formatted_code = \"raw_data = pd.read_csv(\\\"unseen_employee_data.csv\\\")\\n\\nraw_data.head()\";\n",
       "                var nbb_cells = Jupyter.notebook.get_cells();\n",
       "                for (var i = 0; i < nbb_cells.length; ++i) {\n",
       "                    if (nbb_cells[i].input_prompt_number == nbb_cell_id) {\n",
       "                        if (nbb_cells[i].get_text() == nbb_unformatted_code) {\n",
       "                             nbb_cells[i].set_text(nbb_formatted_code);\n",
       "                        }\n",
       "                        break;\n",
       "                    }\n",
       "                }\n",
       "            }, 500);\n",
       "            "
      ],
      "text/plain": [
       "<IPython.core.display.Javascript object>"
      ]
     },
     "metadata": {},
     "output_type": "display_data"
    }
   ],
   "source": [
    "raw_data = pd.read_csv(\"unseen_employee_data.csv\")\n",
    "\n",
    "raw_data.head()"
   ]
  },
  {
   "cell_type": "code",
   "execution_count": 8,
   "id": "7bc0dfdd",
   "metadata": {},
   "outputs": [
    {
     "data": {
      "application/javascript": [
       "\n",
       "            setTimeout(function() {\n",
       "                var nbb_cell_id = 8;\n",
       "                var nbb_unformatted_code = \"def clean_data(df):\\n    # Drop duplicates\\n    df = df.drop_duplicates()\\n\\n    # Drop temporary workers\\n    df = df[df.department != \\\"temp\\\"]\\n\\n    # Missing filed_complaint values should be 0\\n    df[\\\"filed_complaint\\\"] = df.filed_complaint.fillna(0)\\n\\n    # Missing recently_promoted values should be 0\\n    df[\\\"recently_promoted\\\"] = df.recently_promoted.fillna(0)\\n\\n    # 'information_technology' should be 'IT'\\n    df.department.replace(\\\"information_technology\\\", \\\"IT\\\", inplace=True)\\n\\n    # Fill missing values in department with 'Missing'\\n    df[\\\"department\\\"].fillna(\\\"Missing\\\", inplace=True)\\n\\n    # Indicator variable for missing last_evaluation\\n    df[\\\"last_evaluation_missing\\\"] = df.last_evaluation.isnull().astype(int)\\n\\n    # Fill missing values in last_evaluation with 0\\n    df.last_evaluation.fillna(0, inplace=True)\\n\\n    # Return cleaned dataframe\\n    return df\";\n",
       "                var nbb_formatted_code = \"def clean_data(df):\\n    # Drop duplicates\\n    df = df.drop_duplicates()\\n\\n    # Drop temporary workers\\n    df = df[df.department != \\\"temp\\\"]\\n\\n    # Missing filed_complaint values should be 0\\n    df[\\\"filed_complaint\\\"] = df.filed_complaint.fillna(0)\\n\\n    # Missing recently_promoted values should be 0\\n    df[\\\"recently_promoted\\\"] = df.recently_promoted.fillna(0)\\n\\n    # 'information_technology' should be 'IT'\\n    df.department.replace(\\\"information_technology\\\", \\\"IT\\\", inplace=True)\\n\\n    # Fill missing values in department with 'Missing'\\n    df[\\\"department\\\"].fillna(\\\"Missing\\\", inplace=True)\\n\\n    # Indicator variable for missing last_evaluation\\n    df[\\\"last_evaluation_missing\\\"] = df.last_evaluation.isnull().astype(int)\\n\\n    # Fill missing values in last_evaluation with 0\\n    df.last_evaluation.fillna(0, inplace=True)\\n\\n    # Return cleaned dataframe\\n    return df\";\n",
       "                var nbb_cells = Jupyter.notebook.get_cells();\n",
       "                for (var i = 0; i < nbb_cells.length; ++i) {\n",
       "                    if (nbb_cells[i].input_prompt_number == nbb_cell_id) {\n",
       "                        if (nbb_cells[i].get_text() == nbb_unformatted_code) {\n",
       "                             nbb_cells[i].set_text(nbb_formatted_code);\n",
       "                        }\n",
       "                        break;\n",
       "                    }\n",
       "                }\n",
       "            }, 500);\n",
       "            "
      ],
      "text/plain": [
       "<IPython.core.display.Javascript object>"
      ]
     },
     "metadata": {},
     "output_type": "display_data"
    }
   ],
   "source": [
    "def clean_data(df):\n",
    "    # Drop duplicates\n",
    "    df = df.drop_duplicates()\n",
    "\n",
    "    # Drop temporary workers\n",
    "    df = df[df.department != \"temp\"]\n",
    "\n",
    "    # Missing filed_complaint values should be 0\n",
    "    df[\"filed_complaint\"] = df.filed_complaint.fillna(0)\n",
    "\n",
    "    # Missing recently_promoted values should be 0\n",
    "    df[\"recently_promoted\"] = df.recently_promoted.fillna(0)\n",
    "\n",
    "    # 'information_technology' should be 'IT'\n",
    "    df.department.replace(\"information_technology\", \"IT\", inplace=True)\n",
    "\n",
    "    # Fill missing values in department with 'Missing'\n",
    "    df[\"department\"].fillna(\"Missing\", inplace=True)\n",
    "\n",
    "    # Indicator variable for missing last_evaluation\n",
    "    df[\"last_evaluation_missing\"] = df.last_evaluation.isnull().astype(int)\n",
    "\n",
    "    # Fill missing values in last_evaluation with 0\n",
    "    df.last_evaluation.fillna(0, inplace=True)\n",
    "\n",
    "    # Return cleaned dataframe\n",
    "    return df"
   ]
  },
  {
   "cell_type": "code",
   "execution_count": 9,
   "id": "6acff243",
   "metadata": {},
   "outputs": [
    {
     "data": {
      "text/html": [
       "<div>\n",
       "<style scoped>\n",
       "    .dataframe tbody tr th:only-of-type {\n",
       "        vertical-align: middle;\n",
       "    }\n",
       "\n",
       "    .dataframe tbody tr th {\n",
       "        vertical-align: top;\n",
       "    }\n",
       "\n",
       "    .dataframe thead th {\n",
       "        text-align: right;\n",
       "    }\n",
       "</style>\n",
       "<table border=\"1\" class=\"dataframe\">\n",
       "  <thead>\n",
       "    <tr style=\"text-align: right;\">\n",
       "      <th></th>\n",
       "      <th>avg_monthly_hrs</th>\n",
       "      <th>department</th>\n",
       "      <th>filed_complaint</th>\n",
       "      <th>last_evaluation</th>\n",
       "      <th>n_projects</th>\n",
       "      <th>recently_promoted</th>\n",
       "      <th>salary</th>\n",
       "      <th>satisfaction</th>\n",
       "      <th>tenure</th>\n",
       "      <th>last_evaluation_missing</th>\n",
       "    </tr>\n",
       "  </thead>\n",
       "  <tbody>\n",
       "    <tr>\n",
       "      <th>0</th>\n",
       "      <td>228</td>\n",
       "      <td>management</td>\n",
       "      <td>0.0</td>\n",
       "      <td>0.735618</td>\n",
       "      <td>2</td>\n",
       "      <td>0.0</td>\n",
       "      <td>high</td>\n",
       "      <td>0.805661</td>\n",
       "      <td>3.0</td>\n",
       "      <td>0</td>\n",
       "    </tr>\n",
       "    <tr>\n",
       "      <th>1</th>\n",
       "      <td>229</td>\n",
       "      <td>product</td>\n",
       "      <td>0.0</td>\n",
       "      <td>1.000000</td>\n",
       "      <td>4</td>\n",
       "      <td>0.0</td>\n",
       "      <td>low</td>\n",
       "      <td>0.719961</td>\n",
       "      <td>4.0</td>\n",
       "      <td>0</td>\n",
       "    </tr>\n",
       "    <tr>\n",
       "      <th>2</th>\n",
       "      <td>196</td>\n",
       "      <td>sales</td>\n",
       "      <td>1.0</td>\n",
       "      <td>0.557426</td>\n",
       "      <td>4</td>\n",
       "      <td>0.0</td>\n",
       "      <td>low</td>\n",
       "      <td>0.749835</td>\n",
       "      <td>2.0</td>\n",
       "      <td>0</td>\n",
       "    </tr>\n",
       "    <tr>\n",
       "      <th>3</th>\n",
       "      <td>207</td>\n",
       "      <td>IT</td>\n",
       "      <td>0.0</td>\n",
       "      <td>0.715171</td>\n",
       "      <td>3</td>\n",
       "      <td>0.0</td>\n",
       "      <td>high</td>\n",
       "      <td>0.987447</td>\n",
       "      <td>3.0</td>\n",
       "      <td>0</td>\n",
       "    </tr>\n",
       "    <tr>\n",
       "      <th>4</th>\n",
       "      <td>129</td>\n",
       "      <td>management</td>\n",
       "      <td>0.0</td>\n",
       "      <td>0.484818</td>\n",
       "      <td>2</td>\n",
       "      <td>0.0</td>\n",
       "      <td>low</td>\n",
       "      <td>0.441219</td>\n",
       "      <td>3.0</td>\n",
       "      <td>0</td>\n",
       "    </tr>\n",
       "  </tbody>\n",
       "</table>\n",
       "</div>"
      ],
      "text/plain": [
       "   avg_monthly_hrs  department  filed_complaint  last_evaluation  n_projects  \\\n",
       "0              228  management              0.0         0.735618           2   \n",
       "1              229     product              0.0         1.000000           4   \n",
       "2              196       sales              1.0         0.557426           4   \n",
       "3              207          IT              0.0         0.715171           3   \n",
       "4              129  management              0.0         0.484818           2   \n",
       "\n",
       "   recently_promoted salary  satisfaction  tenure  last_evaluation_missing  \n",
       "0                0.0   high      0.805661     3.0                        0  \n",
       "1                0.0    low      0.719961     4.0                        0  \n",
       "2                0.0    low      0.749835     2.0                        0  \n",
       "3                0.0   high      0.987447     3.0                        0  \n",
       "4                0.0    low      0.441219     3.0                        0  "
      ]
     },
     "execution_count": 9,
     "metadata": {},
     "output_type": "execute_result"
    },
    {
     "data": {
      "application/javascript": [
       "\n",
       "            setTimeout(function() {\n",
       "                var nbb_cell_id = 9;\n",
       "                var nbb_unformatted_code = \"# Create cleaned_new_data\\ncleaned_data = clean_data(raw_data)\\n\\n# Display first 5 rows\\ncleaned_data.head()\";\n",
       "                var nbb_formatted_code = \"# Create cleaned_new_data\\ncleaned_data = clean_data(raw_data)\\n\\n# Display first 5 rows\\ncleaned_data.head()\";\n",
       "                var nbb_cells = Jupyter.notebook.get_cells();\n",
       "                for (var i = 0; i < nbb_cells.length; ++i) {\n",
       "                    if (nbb_cells[i].input_prompt_number == nbb_cell_id) {\n",
       "                        if (nbb_cells[i].get_text() == nbb_unformatted_code) {\n",
       "                             nbb_cells[i].set_text(nbb_formatted_code);\n",
       "                        }\n",
       "                        break;\n",
       "                    }\n",
       "                }\n",
       "            }, 500);\n",
       "            "
      ],
      "text/plain": [
       "<IPython.core.display.Javascript object>"
      ]
     },
     "metadata": {},
     "output_type": "display_data"
    }
   ],
   "source": [
    "# Create cleaned_new_data\n",
    "cleaned_data = clean_data(raw_data)\n",
    "\n",
    "# Display first 5 rows\n",
    "cleaned_data.head()"
   ]
  },
  {
   "cell_type": "code",
   "execution_count": 10,
   "id": "2d94e9ed",
   "metadata": {},
   "outputs": [
    {
     "data": {
      "application/javascript": [
       "\n",
       "            setTimeout(function() {\n",
       "                var nbb_cell_id = 10;\n",
       "                var nbb_unformatted_code = \"def engineer_features(df):\\n    # Create indicator features\\n    df[\\\"underperformer\\\"] = (\\n        (df.last_evaluation < 0.6) & (df.last_evaluation_missing == 0)\\n    ).astype(int)\\n\\n    df[\\\"unhappy\\\"] = (df.satisfaction < 0.2).astype(int)\\n\\n    df[\\\"overachiever\\\"] = ((df.last_evaluation > 0.8) & (df.satisfaction > 0.7)).astype(\\n        int\\n    )\\n\\n    # Create new dataframe with dummy features\\n    df = pd.get_dummies(df, columns=[\\\"department\\\", \\\"salary\\\"])\\n\\n    # Return augmented DataFrame\\n    return df\";\n",
       "                var nbb_formatted_code = \"def engineer_features(df):\\n    # Create indicator features\\n    df[\\\"underperformer\\\"] = (\\n        (df.last_evaluation < 0.6) & (df.last_evaluation_missing == 0)\\n    ).astype(int)\\n\\n    df[\\\"unhappy\\\"] = (df.satisfaction < 0.2).astype(int)\\n\\n    df[\\\"overachiever\\\"] = ((df.last_evaluation > 0.8) & (df.satisfaction > 0.7)).astype(\\n        int\\n    )\\n\\n    # Create new dataframe with dummy features\\n    df = pd.get_dummies(df, columns=[\\\"department\\\", \\\"salary\\\"])\\n\\n    # Return augmented DataFrame\\n    return df\";\n",
       "                var nbb_cells = Jupyter.notebook.get_cells();\n",
       "                for (var i = 0; i < nbb_cells.length; ++i) {\n",
       "                    if (nbb_cells[i].input_prompt_number == nbb_cell_id) {\n",
       "                        if (nbb_cells[i].get_text() == nbb_unformatted_code) {\n",
       "                             nbb_cells[i].set_text(nbb_formatted_code);\n",
       "                        }\n",
       "                        break;\n",
       "                    }\n",
       "                }\n",
       "            }, 500);\n",
       "            "
      ],
      "text/plain": [
       "<IPython.core.display.Javascript object>"
      ]
     },
     "metadata": {},
     "output_type": "display_data"
    }
   ],
   "source": [
    "def engineer_features(df):\n",
    "    # Create indicator features\n",
    "    df[\"underperformer\"] = (\n",
    "        (df.last_evaluation < 0.6) & (df.last_evaluation_missing == 0)\n",
    "    ).astype(int)\n",
    "\n",
    "    df[\"unhappy\"] = (df.satisfaction < 0.2).astype(int)\n",
    "\n",
    "    df[\"overachiever\"] = ((df.last_evaluation > 0.8) & (df.satisfaction > 0.7)).astype(\n",
    "        int\n",
    "    )\n",
    "\n",
    "    # Create new dataframe with dummy features\n",
    "    df = pd.get_dummies(df, columns=[\"department\", \"salary\"])\n",
    "\n",
    "    # Return augmented DataFrame\n",
    "    return df"
   ]
  },
  {
   "cell_type": "code",
   "execution_count": 11,
   "id": "62ab1631",
   "metadata": {},
   "outputs": [
    {
     "data": {
      "text/html": [
       "<div>\n",
       "<style scoped>\n",
       "    .dataframe tbody tr th:only-of-type {\n",
       "        vertical-align: middle;\n",
       "    }\n",
       "\n",
       "    .dataframe tbody tr th {\n",
       "        vertical-align: top;\n",
       "    }\n",
       "\n",
       "    .dataframe thead th {\n",
       "        text-align: right;\n",
       "    }\n",
       "</style>\n",
       "<table border=\"1\" class=\"dataframe\">\n",
       "  <thead>\n",
       "    <tr style=\"text-align: right;\">\n",
       "      <th></th>\n",
       "      <th>avg_monthly_hrs</th>\n",
       "      <th>filed_complaint</th>\n",
       "      <th>last_evaluation</th>\n",
       "      <th>n_projects</th>\n",
       "      <th>recently_promoted</th>\n",
       "      <th>satisfaction</th>\n",
       "      <th>tenure</th>\n",
       "      <th>last_evaluation_missing</th>\n",
       "      <th>underperformer</th>\n",
       "      <th>unhappy</th>\n",
       "      <th>overachiever</th>\n",
       "      <th>department_IT</th>\n",
       "      <th>department_Missing</th>\n",
       "      <th>department_admin</th>\n",
       "      <th>department_engineering</th>\n",
       "      <th>department_finance</th>\n",
       "      <th>department_management</th>\n",
       "      <th>department_marketing</th>\n",
       "      <th>department_procurement</th>\n",
       "      <th>department_product</th>\n",
       "      <th>department_sales</th>\n",
       "      <th>department_support</th>\n",
       "      <th>salary_high</th>\n",
       "      <th>salary_low</th>\n",
       "      <th>salary_medium</th>\n",
       "    </tr>\n",
       "  </thead>\n",
       "  <tbody>\n",
       "    <tr>\n",
       "      <th>0</th>\n",
       "      <td>228</td>\n",
       "      <td>0.0</td>\n",
       "      <td>0.735618</td>\n",
       "      <td>2</td>\n",
       "      <td>0.0</td>\n",
       "      <td>0.805661</td>\n",
       "      <td>3.0</td>\n",
       "      <td>0</td>\n",
       "      <td>0</td>\n",
       "      <td>0</td>\n",
       "      <td>0</td>\n",
       "      <td>0</td>\n",
       "      <td>0</td>\n",
       "      <td>0</td>\n",
       "      <td>0</td>\n",
       "      <td>0</td>\n",
       "      <td>1</td>\n",
       "      <td>0</td>\n",
       "      <td>0</td>\n",
       "      <td>0</td>\n",
       "      <td>0</td>\n",
       "      <td>0</td>\n",
       "      <td>1</td>\n",
       "      <td>0</td>\n",
       "      <td>0</td>\n",
       "    </tr>\n",
       "    <tr>\n",
       "      <th>1</th>\n",
       "      <td>229</td>\n",
       "      <td>0.0</td>\n",
       "      <td>1.000000</td>\n",
       "      <td>4</td>\n",
       "      <td>0.0</td>\n",
       "      <td>0.719961</td>\n",
       "      <td>4.0</td>\n",
       "      <td>0</td>\n",
       "      <td>0</td>\n",
       "      <td>0</td>\n",
       "      <td>1</td>\n",
       "      <td>0</td>\n",
       "      <td>0</td>\n",
       "      <td>0</td>\n",
       "      <td>0</td>\n",
       "      <td>0</td>\n",
       "      <td>0</td>\n",
       "      <td>0</td>\n",
       "      <td>0</td>\n",
       "      <td>1</td>\n",
       "      <td>0</td>\n",
       "      <td>0</td>\n",
       "      <td>0</td>\n",
       "      <td>1</td>\n",
       "      <td>0</td>\n",
       "    </tr>\n",
       "    <tr>\n",
       "      <th>2</th>\n",
       "      <td>196</td>\n",
       "      <td>1.0</td>\n",
       "      <td>0.557426</td>\n",
       "      <td>4</td>\n",
       "      <td>0.0</td>\n",
       "      <td>0.749835</td>\n",
       "      <td>2.0</td>\n",
       "      <td>0</td>\n",
       "      <td>1</td>\n",
       "      <td>0</td>\n",
       "      <td>0</td>\n",
       "      <td>0</td>\n",
       "      <td>0</td>\n",
       "      <td>0</td>\n",
       "      <td>0</td>\n",
       "      <td>0</td>\n",
       "      <td>0</td>\n",
       "      <td>0</td>\n",
       "      <td>0</td>\n",
       "      <td>0</td>\n",
       "      <td>1</td>\n",
       "      <td>0</td>\n",
       "      <td>0</td>\n",
       "      <td>1</td>\n",
       "      <td>0</td>\n",
       "    </tr>\n",
       "    <tr>\n",
       "      <th>3</th>\n",
       "      <td>207</td>\n",
       "      <td>0.0</td>\n",
       "      <td>0.715171</td>\n",
       "      <td>3</td>\n",
       "      <td>0.0</td>\n",
       "      <td>0.987447</td>\n",
       "      <td>3.0</td>\n",
       "      <td>0</td>\n",
       "      <td>0</td>\n",
       "      <td>0</td>\n",
       "      <td>0</td>\n",
       "      <td>1</td>\n",
       "      <td>0</td>\n",
       "      <td>0</td>\n",
       "      <td>0</td>\n",
       "      <td>0</td>\n",
       "      <td>0</td>\n",
       "      <td>0</td>\n",
       "      <td>0</td>\n",
       "      <td>0</td>\n",
       "      <td>0</td>\n",
       "      <td>0</td>\n",
       "      <td>1</td>\n",
       "      <td>0</td>\n",
       "      <td>0</td>\n",
       "    </tr>\n",
       "    <tr>\n",
       "      <th>4</th>\n",
       "      <td>129</td>\n",
       "      <td>0.0</td>\n",
       "      <td>0.484818</td>\n",
       "      <td>2</td>\n",
       "      <td>0.0</td>\n",
       "      <td>0.441219</td>\n",
       "      <td>3.0</td>\n",
       "      <td>0</td>\n",
       "      <td>1</td>\n",
       "      <td>0</td>\n",
       "      <td>0</td>\n",
       "      <td>0</td>\n",
       "      <td>0</td>\n",
       "      <td>0</td>\n",
       "      <td>0</td>\n",
       "      <td>0</td>\n",
       "      <td>1</td>\n",
       "      <td>0</td>\n",
       "      <td>0</td>\n",
       "      <td>0</td>\n",
       "      <td>0</td>\n",
       "      <td>0</td>\n",
       "      <td>0</td>\n",
       "      <td>1</td>\n",
       "      <td>0</td>\n",
       "    </tr>\n",
       "  </tbody>\n",
       "</table>\n",
       "</div>"
      ],
      "text/plain": [
       "   avg_monthly_hrs  filed_complaint  last_evaluation  n_projects  \\\n",
       "0              228              0.0         0.735618           2   \n",
       "1              229              0.0         1.000000           4   \n",
       "2              196              1.0         0.557426           4   \n",
       "3              207              0.0         0.715171           3   \n",
       "4              129              0.0         0.484818           2   \n",
       "\n",
       "   recently_promoted  satisfaction  tenure  last_evaluation_missing  \\\n",
       "0                0.0      0.805661     3.0                        0   \n",
       "1                0.0      0.719961     4.0                        0   \n",
       "2                0.0      0.749835     2.0                        0   \n",
       "3                0.0      0.987447     3.0                        0   \n",
       "4                0.0      0.441219     3.0                        0   \n",
       "\n",
       "   underperformer  unhappy  overachiever  department_IT  department_Missing  \\\n",
       "0               0        0             0              0                   0   \n",
       "1               0        0             1              0                   0   \n",
       "2               1        0             0              0                   0   \n",
       "3               0        0             0              1                   0   \n",
       "4               1        0             0              0                   0   \n",
       "\n",
       "   department_admin  department_engineering  department_finance  \\\n",
       "0                 0                       0                   0   \n",
       "1                 0                       0                   0   \n",
       "2                 0                       0                   0   \n",
       "3                 0                       0                   0   \n",
       "4                 0                       0                   0   \n",
       "\n",
       "   department_management  department_marketing  department_procurement  \\\n",
       "0                      1                     0                       0   \n",
       "1                      0                     0                       0   \n",
       "2                      0                     0                       0   \n",
       "3                      0                     0                       0   \n",
       "4                      1                     0                       0   \n",
       "\n",
       "   department_product  department_sales  department_support  salary_high  \\\n",
       "0                   0                 0                   0            1   \n",
       "1                   1                 0                   0            0   \n",
       "2                   0                 1                   0            0   \n",
       "3                   0                 0                   0            1   \n",
       "4                   0                 0                   0            0   \n",
       "\n",
       "   salary_low  salary_medium  \n",
       "0           0              0  \n",
       "1           1              0  \n",
       "2           1              0  \n",
       "3           0              0  \n",
       "4           1              0  "
      ]
     },
     "execution_count": 11,
     "metadata": {},
     "output_type": "execute_result"
    },
    {
     "data": {
      "application/javascript": [
       "\n",
       "            setTimeout(function() {\n",
       "                var nbb_cell_id = 11;\n",
       "                var nbb_unformatted_code = \"# Create augmented_new_data\\naugmented_data = engineer_features(cleaned_data)\\n\\n# Display first 5 rows\\naugmented_data.head()\";\n",
       "                var nbb_formatted_code = \"# Create augmented_new_data\\naugmented_data = engineer_features(cleaned_data)\\n\\n# Display first 5 rows\\naugmented_data.head()\";\n",
       "                var nbb_cells = Jupyter.notebook.get_cells();\n",
       "                for (var i = 0; i < nbb_cells.length; ++i) {\n",
       "                    if (nbb_cells[i].input_prompt_number == nbb_cell_id) {\n",
       "                        if (nbb_cells[i].get_text() == nbb_unformatted_code) {\n",
       "                             nbb_cells[i].set_text(nbb_formatted_code);\n",
       "                        }\n",
       "                        break;\n",
       "                    }\n",
       "                }\n",
       "            }, 500);\n",
       "            "
      ],
      "text/plain": [
       "<IPython.core.display.Javascript object>"
      ]
     },
     "metadata": {},
     "output_type": "display_data"
    }
   ],
   "source": [
    "# Create augmented_new_data\n",
    "augmented_data = engineer_features(cleaned_data)\n",
    "\n",
    "# Display first 5 rows\n",
    "augmented_data.head()"
   ]
  },
  {
   "cell_type": "code",
   "execution_count": 12,
   "id": "72a8e897",
   "metadata": {},
   "outputs": [
    {
     "name": "stdout",
     "output_type": "stream",
     "text": [
      "[[1.   0.  ]\n",
      " [0.98 0.02]\n",
      " [1.   0.  ]\n",
      " [1.   0.  ]\n",
      " [0.   1.  ]]\n"
     ]
    },
    {
     "data": {
      "application/javascript": [
       "\n",
       "            setTimeout(function() {\n",
       "                var nbb_cell_id = 12;\n",
       "                var nbb_unformatted_code = \"# Predict probabilities\\npred = clf.predict_proba(augmented_data)\\n\\n# Print first 5 predictions\\nprint(pred[:5])\";\n",
       "                var nbb_formatted_code = \"# Predict probabilities\\npred = clf.predict_proba(augmented_data)\\n\\n# Print first 5 predictions\\nprint(pred[:5])\";\n",
       "                var nbb_cells = Jupyter.notebook.get_cells();\n",
       "                for (var i = 0; i < nbb_cells.length; ++i) {\n",
       "                    if (nbb_cells[i].input_prompt_number == nbb_cell_id) {\n",
       "                        if (nbb_cells[i].get_text() == nbb_unformatted_code) {\n",
       "                             nbb_cells[i].set_text(nbb_formatted_code);\n",
       "                        }\n",
       "                        break;\n",
       "                    }\n",
       "                }\n",
       "            }, 500);\n",
       "            "
      ],
      "text/plain": [
       "<IPython.core.display.Javascript object>"
      ]
     },
     "metadata": {},
     "output_type": "display_data"
    }
   ],
   "source": [
    "# Predict probabilities\n",
    "pred = clf.predict_proba(augmented_data)\n",
    "\n",
    "# Print first 5 predictions\n",
    "print(pred[:5])"
   ]
  },
  {
   "cell_type": "markdown",
   "id": "3dd7737e",
   "metadata": {},
   "source": [
    "#### Construct Custom Model Class"
   ]
  },
  {
   "cell_type": "code",
   "execution_count": 13,
   "id": "bc645607",
   "metadata": {},
   "outputs": [
    {
     "data": {
      "application/javascript": [
       "\n",
       "            setTimeout(function() {\n",
       "                var nbb_cell_id = 13;\n",
       "                var nbb_unformatted_code = \"class EmployeeRetentionModel:\\n    def __init__(self, model_location):\\n        with open(model_location, \\\"rb\\\") as f:\\n            self.model = pickle.load(f)\\n\\n    def predict_proba(self, X_new, clean=True, augment=True):\\n        if clean:\\n            X_new = self.clean_data(X_new)\\n\\n        if augment:\\n            X_new = self.engineer_features(X_new)\\n\\n        return X_new, self.model.predict_proba(X_new)\\n\\n    # Add functions here\\n    def clean_data(self, df):\\n        # Drop duplicates\\n        df = df.drop_duplicates()\\n\\n        # Drop temporary workers\\n        df = df[df.department != \\\"temp\\\"]\\n\\n        # Missing filed_complaint values should be 0\\n        df[\\\"filed_complaint\\\"] = df.filed_complaint.fillna(0)\\n\\n        # Missing recently_promoted values should be 0\\n        df[\\\"recently_promoted\\\"] = df.recently_promoted.fillna(0)\\n\\n        # 'information_technology' should be 'IT'\\n        df.department.replace(\\\"information_technology\\\", \\\"IT\\\", inplace=True)\\n\\n        # Fill missing values in department with 'Missing'\\n        df[\\\"department\\\"].fillna(\\\"Missing\\\", inplace=True)\\n\\n        # Indicator variable for missing last_evaluation\\n        df[\\\"last_evaluation_missing\\\"] = df.last_evaluation.isnull().astype(int)\\n\\n        # Fill missing values in last_evaluation with 0\\n        df.last_evaluation.fillna(0, inplace=True)\\n\\n        # Return cleaned dataframe\\n        return df\\n\\n    def engineer_features(self, df):\\n        # Create indicator features\\n        df[\\\"underperformer\\\"] = (\\n            (df.last_evaluation < 0.6) & (df.last_evaluation_missing == 0)\\n        ).astype(int)\\n\\n        df[\\\"unhappy\\\"] = (df.satisfaction < 0.2).astype(int)\\n\\n        df[\\\"overachiever\\\"] = (\\n            (df.last_evaluation > 0.8) & (df.satisfaction > 0.7)\\n        ).astype(int)\\n\\n        # Create new dataframe with dummy features\\n        df = pd.get_dummies(df, columns=[\\\"department\\\", \\\"salary\\\"])\\n\\n        # Return augmented DataFrame\\n        return df\";\n",
       "                var nbb_formatted_code = \"class EmployeeRetentionModel:\\n    def __init__(self, model_location):\\n        with open(model_location, \\\"rb\\\") as f:\\n            self.model = pickle.load(f)\\n\\n    def predict_proba(self, X_new, clean=True, augment=True):\\n        if clean:\\n            X_new = self.clean_data(X_new)\\n\\n        if augment:\\n            X_new = self.engineer_features(X_new)\\n\\n        return X_new, self.model.predict_proba(X_new)\\n\\n    # Add functions here\\n    def clean_data(self, df):\\n        # Drop duplicates\\n        df = df.drop_duplicates()\\n\\n        # Drop temporary workers\\n        df = df[df.department != \\\"temp\\\"]\\n\\n        # Missing filed_complaint values should be 0\\n        df[\\\"filed_complaint\\\"] = df.filed_complaint.fillna(0)\\n\\n        # Missing recently_promoted values should be 0\\n        df[\\\"recently_promoted\\\"] = df.recently_promoted.fillna(0)\\n\\n        # 'information_technology' should be 'IT'\\n        df.department.replace(\\\"information_technology\\\", \\\"IT\\\", inplace=True)\\n\\n        # Fill missing values in department with 'Missing'\\n        df[\\\"department\\\"].fillna(\\\"Missing\\\", inplace=True)\\n\\n        # Indicator variable for missing last_evaluation\\n        df[\\\"last_evaluation_missing\\\"] = df.last_evaluation.isnull().astype(int)\\n\\n        # Fill missing values in last_evaluation with 0\\n        df.last_evaluation.fillna(0, inplace=True)\\n\\n        # Return cleaned dataframe\\n        return df\\n\\n    def engineer_features(self, df):\\n        # Create indicator features\\n        df[\\\"underperformer\\\"] = (\\n            (df.last_evaluation < 0.6) & (df.last_evaluation_missing == 0)\\n        ).astype(int)\\n\\n        df[\\\"unhappy\\\"] = (df.satisfaction < 0.2).astype(int)\\n\\n        df[\\\"overachiever\\\"] = (\\n            (df.last_evaluation > 0.8) & (df.satisfaction > 0.7)\\n        ).astype(int)\\n\\n        # Create new dataframe with dummy features\\n        df = pd.get_dummies(df, columns=[\\\"department\\\", \\\"salary\\\"])\\n\\n        # Return augmented DataFrame\\n        return df\";\n",
       "                var nbb_cells = Jupyter.notebook.get_cells();\n",
       "                for (var i = 0; i < nbb_cells.length; ++i) {\n",
       "                    if (nbb_cells[i].input_prompt_number == nbb_cell_id) {\n",
       "                        if (nbb_cells[i].get_text() == nbb_unformatted_code) {\n",
       "                             nbb_cells[i].set_text(nbb_formatted_code);\n",
       "                        }\n",
       "                        break;\n",
       "                    }\n",
       "                }\n",
       "            }, 500);\n",
       "            "
      ],
      "text/plain": [
       "<IPython.core.display.Javascript object>"
      ]
     },
     "metadata": {},
     "output_type": "display_data"
    }
   ],
   "source": [
    "class EmployeeRetentionModel:\n",
    "    def __init__(self, model_location):\n",
    "        with open(model_location, \"rb\") as f:\n",
    "            self.model = pickle.load(f)\n",
    "\n",
    "    def predict_proba(self, X_new, clean=True, augment=True):\n",
    "        if clean:\n",
    "            X_new = self.clean_data(X_new)\n",
    "\n",
    "        if augment:\n",
    "            X_new = self.engineer_features(X_new)\n",
    "\n",
    "        return X_new, self.model.predict_proba(X_new)\n",
    "\n",
    "    # Add functions here\n",
    "    def clean_data(self, df):\n",
    "        # Drop duplicates\n",
    "        df = df.drop_duplicates()\n",
    "\n",
    "        # Drop temporary workers\n",
    "        df = df[df.department != \"temp\"]\n",
    "\n",
    "        # Missing filed_complaint values should be 0\n",
    "        df[\"filed_complaint\"] = df.filed_complaint.fillna(0)\n",
    "\n",
    "        # Missing recently_promoted values should be 0\n",
    "        df[\"recently_promoted\"] = df.recently_promoted.fillna(0)\n",
    "\n",
    "        # 'information_technology' should be 'IT'\n",
    "        df.department.replace(\"information_technology\", \"IT\", inplace=True)\n",
    "\n",
    "        # Fill missing values in department with 'Missing'\n",
    "        df[\"department\"].fillna(\"Missing\", inplace=True)\n",
    "\n",
    "        # Indicator variable for missing last_evaluation\n",
    "        df[\"last_evaluation_missing\"] = df.last_evaluation.isnull().astype(int)\n",
    "\n",
    "        # Fill missing values in last_evaluation with 0\n",
    "        df.last_evaluation.fillna(0, inplace=True)\n",
    "\n",
    "        # Return cleaned dataframe\n",
    "        return df\n",
    "\n",
    "    def engineer_features(self, df):\n",
    "        # Create indicator features\n",
    "        df[\"underperformer\"] = (\n",
    "            (df.last_evaluation < 0.6) & (df.last_evaluation_missing == 0)\n",
    "        ).astype(int)\n",
    "\n",
    "        df[\"unhappy\"] = (df.satisfaction < 0.2).astype(int)\n",
    "\n",
    "        df[\"overachiever\"] = (\n",
    "            (df.last_evaluation > 0.8) & (df.satisfaction > 0.7)\n",
    "        ).astype(int)\n",
    "\n",
    "        # Create new dataframe with dummy features\n",
    "        df = pd.get_dummies(df, columns=[\"department\", \"salary\"])\n",
    "\n",
    "        # Return augmented DataFrame\n",
    "        return df"
   ]
  },
  {
   "cell_type": "code",
   "execution_count": 14,
   "id": "3422ca34",
   "metadata": {},
   "outputs": [
    {
     "data": {
      "application/javascript": [
       "\n",
       "            setTimeout(function() {\n",
       "                var nbb_cell_id = 14;\n",
       "                var nbb_unformatted_code = \"# Initialize an instance\\nretention_model = EmployeeRetentionModel(\\\"final_model.pkl\\\")\";\n",
       "                var nbb_formatted_code = \"# Initialize an instance\\nretention_model = EmployeeRetentionModel(\\\"final_model.pkl\\\")\";\n",
       "                var nbb_cells = Jupyter.notebook.get_cells();\n",
       "                for (var i = 0; i < nbb_cells.length; ++i) {\n",
       "                    if (nbb_cells[i].input_prompt_number == nbb_cell_id) {\n",
       "                        if (nbb_cells[i].get_text() == nbb_unformatted_code) {\n",
       "                             nbb_cells[i].set_text(nbb_formatted_code);\n",
       "                        }\n",
       "                        break;\n",
       "                    }\n",
       "                }\n",
       "            }, 500);\n",
       "            "
      ],
      "text/plain": [
       "<IPython.core.display.Javascript object>"
      ]
     },
     "metadata": {},
     "output_type": "display_data"
    }
   ],
   "source": [
    "# Initialize an instance\n",
    "retention_model = EmployeeRetentionModel(\"final_model.pkl\")"
   ]
  },
  {
   "cell_type": "code",
   "execution_count": 15,
   "id": "c4f2eb56",
   "metadata": {},
   "outputs": [
    {
     "data": {
      "application/javascript": [
       "\n",
       "            setTimeout(function() {\n",
       "                var nbb_cell_id = 15;\n",
       "                var nbb_unformatted_code = \"# Predict raw data\\n_, pred1 = retention_model.predict_proba(raw_data, clean=True, augment=True)\\n\\n# Predict cleaned data\\n_, pred2 = retention_model.predict_proba(cleaned_data, clean=False, augment=True)\\n\\n# Predict cleaned and augmented data\\n_, pred3 = retention_model.predict_proba(augmented_data, clean=False, augment=False)\";\n",
       "                var nbb_formatted_code = \"# Predict raw data\\n_, pred1 = retention_model.predict_proba(raw_data, clean=True, augment=True)\\n\\n# Predict cleaned data\\n_, pred2 = retention_model.predict_proba(cleaned_data, clean=False, augment=True)\\n\\n# Predict cleaned and augmented data\\n_, pred3 = retention_model.predict_proba(augmented_data, clean=False, augment=False)\";\n",
       "                var nbb_cells = Jupyter.notebook.get_cells();\n",
       "                for (var i = 0; i < nbb_cells.length; ++i) {\n",
       "                    if (nbb_cells[i].input_prompt_number == nbb_cell_id) {\n",
       "                        if (nbb_cells[i].get_text() == nbb_unformatted_code) {\n",
       "                             nbb_cells[i].set_text(nbb_formatted_code);\n",
       "                        }\n",
       "                        break;\n",
       "                    }\n",
       "                }\n",
       "            }, 500);\n",
       "            "
      ],
      "text/plain": [
       "<IPython.core.display.Javascript object>"
      ]
     },
     "metadata": {},
     "output_type": "display_data"
    }
   ],
   "source": [
    "# Predict raw data\n",
    "_, pred1 = retention_model.predict_proba(raw_data, clean=True, augment=True)\n",
    "\n",
    "# Predict cleaned data\n",
    "_, pred2 = retention_model.predict_proba(cleaned_data, clean=False, augment=True)\n",
    "\n",
    "# Predict cleaned and augmented data\n",
    "_, pred3 = retention_model.predict_proba(augmented_data, clean=False, augment=False)"
   ]
  },
  {
   "cell_type": "code",
   "execution_count": 16,
   "id": "7138b8b3",
   "metadata": {},
   "outputs": [
    {
     "data": {
      "text/plain": [
       "True"
      ]
     },
     "execution_count": 16,
     "metadata": {},
     "output_type": "execute_result"
    },
    {
     "data": {
      "application/javascript": [
       "\n",
       "            setTimeout(function() {\n",
       "                var nbb_cell_id = 16;\n",
       "                var nbb_unformatted_code = \"# Check: Should be true\\nnp.array_equal(pred1, pred2) and np.array_equal(pred2, pred3)\";\n",
       "                var nbb_formatted_code = \"# Check: Should be true\\nnp.array_equal(pred1, pred2) and np.array_equal(pred2, pred3)\";\n",
       "                var nbb_cells = Jupyter.notebook.get_cells();\n",
       "                for (var i = 0; i < nbb_cells.length; ++i) {\n",
       "                    if (nbb_cells[i].input_prompt_number == nbb_cell_id) {\n",
       "                        if (nbb_cells[i].get_text() == nbb_unformatted_code) {\n",
       "                             nbb_cells[i].set_text(nbb_formatted_code);\n",
       "                        }\n",
       "                        break;\n",
       "                    }\n",
       "                }\n",
       "            }, 500);\n",
       "            "
      ],
      "text/plain": [
       "<IPython.core.display.Javascript object>"
      ]
     },
     "metadata": {},
     "output_type": "display_data"
    }
   ],
   "source": [
    "# Check: Should be true\n",
    "np.array_equal(pred1, pred2) and np.array_equal(pred2, pred3)"
   ]
  }
 ],
 "metadata": {
  "kernelspec": {
   "display_name": "Python 3 (ipykernel)",
   "language": "python",
   "name": "python3"
  },
  "language_info": {
   "codemirror_mode": {
    "name": "ipython",
    "version": 3
   },
   "file_extension": ".py",
   "mimetype": "text/x-python",
   "name": "python",
   "nbconvert_exporter": "python",
   "pygments_lexer": "ipython3",
   "version": "3.9.7"
  }
 },
 "nbformat": 4,
 "nbformat_minor": 5
}
