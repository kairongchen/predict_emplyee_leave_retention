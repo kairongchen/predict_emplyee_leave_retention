{
 "cells": [
  {
   "cell_type": "markdown",
   "id": "13ca29e5",
   "metadata": {},
   "source": [
    "### Module 3 - Model Evaluation\n",
    "\n",
    "\n",
    "**Components in this Project:**\n",
    "- Exploratory Analysis: Chasing Aha! Moments\n",
    "- ABT Construction: Building a Base for Successful Modeling\n",
    "- Classification Algorithms: The Value of Versatility\n",
    "- <span style=\"color:royalblue\">Model Evaluation: Sophisticated Performance Metrics, AUROC</span>\n",
    "- Project Delivery: From Raw Data to Final Prediction\n",
    "\n",
    "\n",
    "Kairong Chen\n",
    "\n",
    "Lasted edited: 01/30/2022\n",
    "\n",
    "\n",
    "#### The model training process:\n",
    "1. Choose several reasonable algorithms for your task\n",
    "2. Split the dataset into training / test sets\n",
    "3. List out reasonable values to try for key parameters\n",
    "4. Cross-validation: Using ONLY the training set, estimate the best set of hyperparameter values for each algorithm\n",
    "5. Use the test set to pick the winning model among all algorithm (win condition / evaluation metrics)\n",
    "\n",
    "\n",
    "#### This Module includes:\n",
    "1. Split dataset\n",
    "    - X and y\n",
    "    - training / test sets\n",
    "2. Build Model Pipelines\n",
    "    - Create a single pipeline dictionary with pipelines for each algorithm\n",
    "3. Declare Hyperparameter Grids\n",
    "    - Dictionaries for the hyperparameter grids for each algorithm\n",
    "    - A Hyperparameter Dictionary contains all dictionaries of algorithm hyperparameters\n",
    "4. Fit and Tune Models with Cross-Validation\n",
    "    - helper for cross-validation, `GridSearchCV`\n",
    "    - `GridSearchCV` objects that have been fitted to `X_train` and `y_train`\n",
    "5. AUROC Review\n",
    "\n",
    "\n",
    "\n",
    "#### Important Concepts\n",
    "A **confusion matrix** displays the True Positives/Negatives verses the False Positives/Negatives for a given set of predictions.\n",
    "\n",
    "**\"Receiver Operating Characteristic\"** (ROC) Curve is a graph shows the performance of binary classifier as its threshhold varies.\n",
    "\n",
    "Decreasing the threshold rate --- BOTH of TP and NP increase!!\n",
    "\n",
    "\n",
    "Area Under ROC curve: The area under the ROC curve, being a number between 0 and 1. In practice, should be > 0.5.\n",
    "\n",
    "AUROC is the most reliable performance metric for binary classification tasks."
   ]
  },
  {
   "cell_type": "code",
   "execution_count": 1,
   "id": "592929e0",
   "metadata": {},
   "outputs": [
    {
     "data": {
      "application/javascript": [
       "\n",
       "            setTimeout(function() {\n",
       "                var nbb_cell_id = 1;\n",
       "                var nbb_unformatted_code = \"%load_ext nb_black\\n# NumPy for numerical computing\\nimport numpy as np\\n\\n# Pandas for DataFrames\\nimport pandas as pd\\n\\npd.set_option(\\\"display.max_columns\\\", 100)\\n\\n# Matplotlib for visualization\\nfrom matplotlib import pyplot as plt\\n\\n# display plots in the notebook\\n%matplotlib inline\\n\\n# Seaborn for easier visualization\\nimport seaborn as sns\\n\\nsns.set_style(\\\"darkgrid\\\")\\n\\n# Pickle for saving model files\\nimport pickle\\n\\n# Import Logistic Regression\\nfrom sklearn.linear_model import LogisticRegression\\n\\n# Import RandomForestClassifier and GradientBoostingClassifer\\nfrom sklearn.ensemble import RandomForestClassifier, GradientBoostingClassifier\\n\\n# Function for splitting training and test set\\nfrom sklearn.model_selection import train_test_split\\n\\n# Function for creating model pipelines\\nfrom sklearn.pipeline import make_pipeline\\n\\n# StandardScaler\\nfrom sklearn.preprocessing import StandardScaler\\n\\n# GridSearchCV\\nfrom sklearn.model_selection import GridSearchCV\\n\\n# Classification metrics\\nfrom sklearn.metrics import confusion_matrix\\nfrom sklearn.metrics import roc_curve, roc_auc_score\";\n",
       "                var nbb_formatted_code = \"%load_ext nb_black\\n# NumPy for numerical computing\\nimport numpy as np\\n\\n# Pandas for DataFrames\\nimport pandas as pd\\n\\npd.set_option(\\\"display.max_columns\\\", 100)\\n\\n# Matplotlib for visualization\\nfrom matplotlib import pyplot as plt\\n\\n# display plots in the notebook\\n%matplotlib inline\\n\\n# Seaborn for easier visualization\\nimport seaborn as sns\\n\\nsns.set_style(\\\"darkgrid\\\")\\n\\n# Pickle for saving model files\\nimport pickle\\n\\n# Import Logistic Regression\\nfrom sklearn.linear_model import LogisticRegression\\n\\n# Import RandomForestClassifier and GradientBoostingClassifer\\nfrom sklearn.ensemble import RandomForestClassifier, GradientBoostingClassifier\\n\\n# Function for splitting training and test set\\nfrom sklearn.model_selection import train_test_split\\n\\n# Function for creating model pipelines\\nfrom sklearn.pipeline import make_pipeline\\n\\n# StandardScaler\\nfrom sklearn.preprocessing import StandardScaler\\n\\n# GridSearchCV\\nfrom sklearn.model_selection import GridSearchCV\\n\\n# Classification metrics\\nfrom sklearn.metrics import confusion_matrix\\nfrom sklearn.metrics import roc_curve, roc_auc_score\";\n",
       "                var nbb_cells = Jupyter.notebook.get_cells();\n",
       "                for (var i = 0; i < nbb_cells.length; ++i) {\n",
       "                    if (nbb_cells[i].input_prompt_number == nbb_cell_id) {\n",
       "                        if (nbb_cells[i].get_text() == nbb_unformatted_code) {\n",
       "                             nbb_cells[i].set_text(nbb_formatted_code);\n",
       "                        }\n",
       "                        break;\n",
       "                    }\n",
       "                }\n",
       "            }, 500);\n",
       "            "
      ],
      "text/plain": [
       "<IPython.core.display.Javascript object>"
      ]
     },
     "metadata": {},
     "output_type": "display_data"
    }
   ],
   "source": [
    "%load_ext nb_black\n",
    "# NumPy for numerical computing\n",
    "import numpy as np\n",
    "\n",
    "# Pandas for DataFrames\n",
    "import pandas as pd\n",
    "\n",
    "pd.set_option(\"display.max_columns\", 100)\n",
    "\n",
    "# Matplotlib for visualization\n",
    "from matplotlib import pyplot as plt\n",
    "\n",
    "# display plots in the notebook\n",
    "%matplotlib inline\n",
    "\n",
    "# Seaborn for easier visualization\n",
    "import seaborn as sns\n",
    "\n",
    "sns.set_style(\"darkgrid\")\n",
    "\n",
    "# Pickle for saving model files\n",
    "import pickle\n",
    "\n",
    "# Import Logistic Regression\n",
    "from sklearn.linear_model import LogisticRegression\n",
    "\n",
    "# Import RandomForestClassifier and GradientBoostingClassifer\n",
    "from sklearn.ensemble import RandomForestClassifier, GradientBoostingClassifier\n",
    "\n",
    "# Function for splitting training and test set\n",
    "from sklearn.model_selection import train_test_split\n",
    "\n",
    "# Function for creating model pipelines\n",
    "from sklearn.pipeline import make_pipeline\n",
    "\n",
    "# StandardScaler\n",
    "from sklearn.preprocessing import StandardScaler\n",
    "\n",
    "# GridSearchCV\n",
    "from sklearn.model_selection import GridSearchCV\n",
    "\n",
    "# Classification metrics\n",
    "from sklearn.metrics import confusion_matrix\n",
    "from sklearn.metrics import roc_curve, roc_auc_score"
   ]
  },
  {
   "cell_type": "code",
   "execution_count": 2,
   "id": "697a3dd0",
   "metadata": {},
   "outputs": [
    {
     "data": {
      "application/javascript": [
       "\n",
       "            setTimeout(function() {\n",
       "                var nbb_cell_id = 2;\n",
       "                var nbb_unformatted_code = \"# Load analytical base table from Module 2\\nabt = pd.read_csv(\\\"analytical_base_table.csv\\\")\";\n",
       "                var nbb_formatted_code = \"# Load analytical base table from Module 2\\nabt = pd.read_csv(\\\"analytical_base_table.csv\\\")\";\n",
       "                var nbb_cells = Jupyter.notebook.get_cells();\n",
       "                for (var i = 0; i < nbb_cells.length; ++i) {\n",
       "                    if (nbb_cells[i].input_prompt_number == nbb_cell_id) {\n",
       "                        if (nbb_cells[i].get_text() == nbb_unformatted_code) {\n",
       "                             nbb_cells[i].set_text(nbb_formatted_code);\n",
       "                        }\n",
       "                        break;\n",
       "                    }\n",
       "                }\n",
       "            }, 500);\n",
       "            "
      ],
      "text/plain": [
       "<IPython.core.display.Javascript object>"
      ]
     },
     "metadata": {},
     "output_type": "display_data"
    }
   ],
   "source": [
    "# Load analytical base table from Module 2\n",
    "abt = pd.read_csv(\"analytical_base_table.csv\")"
   ]
  },
  {
   "cell_type": "markdown",
   "id": "4a297c53",
   "metadata": {},
   "source": [
    "#### Split Your Dataset"
   ]
  },
  {
   "cell_type": "code",
   "execution_count": 3,
   "id": "3f43d885",
   "metadata": {},
   "outputs": [
    {
     "data": {
      "application/javascript": [
       "\n",
       "            setTimeout(function() {\n",
       "                var nbb_cell_id = 3;\n",
       "                var nbb_unformatted_code = \"# Create separate object for target variable\\ny = abt.status\\n\\n# Create separate object for input features\\nX = abt.drop(\\\"status\\\", axis=1)\";\n",
       "                var nbb_formatted_code = \"# Create separate object for target variable\\ny = abt.status\\n\\n# Create separate object for input features\\nX = abt.drop(\\\"status\\\", axis=1)\";\n",
       "                var nbb_cells = Jupyter.notebook.get_cells();\n",
       "                for (var i = 0; i < nbb_cells.length; ++i) {\n",
       "                    if (nbb_cells[i].input_prompt_number == nbb_cell_id) {\n",
       "                        if (nbb_cells[i].get_text() == nbb_unformatted_code) {\n",
       "                             nbb_cells[i].set_text(nbb_formatted_code);\n",
       "                        }\n",
       "                        break;\n",
       "                    }\n",
       "                }\n",
       "            }, 500);\n",
       "            "
      ],
      "text/plain": [
       "<IPython.core.display.Javascript object>"
      ]
     },
     "metadata": {},
     "output_type": "display_data"
    }
   ],
   "source": [
    "# Create separate object for target variable\n",
    "y = abt.status\n",
    "\n",
    "# Create separate object for input features\n",
    "X = abt.drop(\"status\", axis=1)"
   ]
  },
  {
   "cell_type": "code",
   "execution_count": 4,
   "id": "be99de63",
   "metadata": {},
   "outputs": [
    {
     "name": "stdout",
     "output_type": "stream",
     "text": [
      "11254 2814 11254 2814\n"
     ]
    },
    {
     "data": {
      "application/javascript": [
       "\n",
       "            setTimeout(function() {\n",
       "                var nbb_cell_id = 4;\n",
       "                var nbb_unformatted_code = \"# Split X and y into train and test sets\\nX_train, X_test, y_train, y_test = train_test_split(\\n    X, y, test_size=0.2, random_state=1234, stratify=abt.status\\n)\\n\\n# Print number of observations in X_train, X_test, y_train, and y_test\\nprint(len(X_train), len(X_test), len(y_train), len(y_test))\";\n",
       "                var nbb_formatted_code = \"# Split X and y into train and test sets\\nX_train, X_test, y_train, y_test = train_test_split(\\n    X, y, test_size=0.2, random_state=1234, stratify=abt.status\\n)\\n\\n# Print number of observations in X_train, X_test, y_train, and y_test\\nprint(len(X_train), len(X_test), len(y_train), len(y_test))\";\n",
       "                var nbb_cells = Jupyter.notebook.get_cells();\n",
       "                for (var i = 0; i < nbb_cells.length; ++i) {\n",
       "                    if (nbb_cells[i].input_prompt_number == nbb_cell_id) {\n",
       "                        if (nbb_cells[i].get_text() == nbb_unformatted_code) {\n",
       "                             nbb_cells[i].set_text(nbb_formatted_code);\n",
       "                        }\n",
       "                        break;\n",
       "                    }\n",
       "                }\n",
       "            }, 500);\n",
       "            "
      ],
      "text/plain": [
       "<IPython.core.display.Javascript object>"
      ]
     },
     "metadata": {},
     "output_type": "display_data"
    }
   ],
   "source": [
    "# Split X and y into train and test sets\n",
    "X_train, X_test, y_train, y_test = train_test_split(\n",
    "    X, y, test_size=0.2, random_state=1234, stratify=abt.status\n",
    ")\n",
    "\n",
    "# Print number of observations in X_train, X_test, y_train, and y_test\n",
    "print(len(X_train), len(X_test), len(y_train), len(y_test))"
   ]
  },
  {
   "cell_type": "markdown",
   "id": "9ae3bfab",
   "metadata": {},
   "source": [
    "#### Build Model Pipelines"
   ]
  },
  {
   "cell_type": "code",
   "execution_count": 5,
   "id": "846ebd9b",
   "metadata": {},
   "outputs": [
    {
     "data": {
      "application/javascript": [
       "\n",
       "            setTimeout(function() {\n",
       "                var nbb_cell_id = 5;\n",
       "                var nbb_unformatted_code = \"# Pipeline dictionary\\npipelines = {\\n    \\\"l1\\\": make_pipeline(\\n        StandardScaler(),\\n        LogisticRegression(random_state=123, penalty=\\\"l1\\\", solver=\\\"liblinear\\\"),\\n    ),\\n    \\\"l2\\\": make_pipeline(\\n        StandardScaler(),\\n        LogisticRegression(random_state=123, penalty=\\\"l2\\\", solver=\\\"liblinear\\\"),\\n    ),\\n    \\\"rf\\\": make_pipeline(StandardScaler(), RandomForestClassifier(random_state=123)),\\n    \\\"gb\\\": make_pipeline(StandardScaler(), GradientBoostingClassifier(random_state=123)),\\n}\";\n",
       "                var nbb_formatted_code = \"# Pipeline dictionary\\npipelines = {\\n    \\\"l1\\\": make_pipeline(\\n        StandardScaler(),\\n        LogisticRegression(random_state=123, penalty=\\\"l1\\\", solver=\\\"liblinear\\\"),\\n    ),\\n    \\\"l2\\\": make_pipeline(\\n        StandardScaler(),\\n        LogisticRegression(random_state=123, penalty=\\\"l2\\\", solver=\\\"liblinear\\\"),\\n    ),\\n    \\\"rf\\\": make_pipeline(StandardScaler(), RandomForestClassifier(random_state=123)),\\n    \\\"gb\\\": make_pipeline(StandardScaler(), GradientBoostingClassifier(random_state=123)),\\n}\";\n",
       "                var nbb_cells = Jupyter.notebook.get_cells();\n",
       "                for (var i = 0; i < nbb_cells.length; ++i) {\n",
       "                    if (nbb_cells[i].input_prompt_number == nbb_cell_id) {\n",
       "                        if (nbb_cells[i].get_text() == nbb_unformatted_code) {\n",
       "                             nbb_cells[i].set_text(nbb_formatted_code);\n",
       "                        }\n",
       "                        break;\n",
       "                    }\n",
       "                }\n",
       "            }, 500);\n",
       "            "
      ],
      "text/plain": [
       "<IPython.core.display.Javascript object>"
      ]
     },
     "metadata": {},
     "output_type": "display_data"
    }
   ],
   "source": [
    "# Pipeline dictionary\n",
    "pipelines = {\n",
    "    \"l1\": make_pipeline(\n",
    "        StandardScaler(),\n",
    "        LogisticRegression(random_state=123, penalty=\"l1\", solver=\"liblinear\"),\n",
    "    ),\n",
    "    \"l2\": make_pipeline(\n",
    "        StandardScaler(),\n",
    "        LogisticRegression(random_state=123, penalty=\"l2\", solver=\"liblinear\"),\n",
    "    ),\n",
    "    \"rf\": make_pipeline(StandardScaler(), RandomForestClassifier(random_state=123)),\n",
    "    \"gb\": make_pipeline(StandardScaler(), GradientBoostingClassifier(random_state=123)),\n",
    "}"
   ]
  },
  {
   "cell_type": "markdown",
   "id": "2d19f304",
   "metadata": {},
   "source": [
    "#### Declare Hyperparameter Grids"
   ]
  },
  {
   "cell_type": "code",
   "execution_count": 6,
   "id": "6ecbc1d0",
   "metadata": {},
   "outputs": [
    {
     "data": {
      "application/javascript": [
       "\n",
       "            setTimeout(function() {\n",
       "                var nbb_cell_id = 6;\n",
       "                var nbb_unformatted_code = \"# Logistic Regression hyperparameters\\nl1_hyperparameters = {\\n    'logisticregression__C' : [0.001, 0.005, 0.01, 0.05, 0.1, 0.5, 1, 5, 10, 50, 100, 500, 1000],\\n}\\n\\nl2_hyperparameters = {\\n    'logisticregression__C' : [0.001, 0.005, 0.01, 0.05, 0.1, 0.5, 1, 5, 10, 50, 100, 500, 1000],\\n}\\n\\n# Random Forest hyperparameters\\nrf_hyperparameters = {\\n    'randomforestclassifier__n_estimators': [100, 200],\\n    'randomforestclassifier__max_features': ['auto', 'sqrt', 0.33],\\n    'randomforestclassifier__min_samples_leaf': [1, 3, 5, 10]\\n}\\n\\n# Boosted Tree hyperparameters\\ngb_hyperparameters = {\\n    'gradientboostingclassifier__n_estimators': [100, 200],\\n    'gradientboostingclassifier__learning_rate': [0.05, 0.1, 0.2],\\n    'gradientboostingclassifier__max_depth': [1, 3, 5]\\n}\";\n",
       "                var nbb_formatted_code = \"# Logistic Regression hyperparameters\\nl1_hyperparameters = {\\n    \\\"logisticregression__C\\\": [\\n        0.001,\\n        0.005,\\n        0.01,\\n        0.05,\\n        0.1,\\n        0.5,\\n        1,\\n        5,\\n        10,\\n        50,\\n        100,\\n        500,\\n        1000,\\n    ],\\n}\\n\\nl2_hyperparameters = {\\n    \\\"logisticregression__C\\\": [\\n        0.001,\\n        0.005,\\n        0.01,\\n        0.05,\\n        0.1,\\n        0.5,\\n        1,\\n        5,\\n        10,\\n        50,\\n        100,\\n        500,\\n        1000,\\n    ],\\n}\\n\\n# Random Forest hyperparameters\\nrf_hyperparameters = {\\n    \\\"randomforestclassifier__n_estimators\\\": [100, 200],\\n    \\\"randomforestclassifier__max_features\\\": [\\\"auto\\\", \\\"sqrt\\\", 0.33],\\n    \\\"randomforestclassifier__min_samples_leaf\\\": [1, 3, 5, 10],\\n}\\n\\n# Boosted Tree hyperparameters\\ngb_hyperparameters = {\\n    \\\"gradientboostingclassifier__n_estimators\\\": [100, 200],\\n    \\\"gradientboostingclassifier__learning_rate\\\": [0.05, 0.1, 0.2],\\n    \\\"gradientboostingclassifier__max_depth\\\": [1, 3, 5],\\n}\";\n",
       "                var nbb_cells = Jupyter.notebook.get_cells();\n",
       "                for (var i = 0; i < nbb_cells.length; ++i) {\n",
       "                    if (nbb_cells[i].input_prompt_number == nbb_cell_id) {\n",
       "                        if (nbb_cells[i].get_text() == nbb_unformatted_code) {\n",
       "                             nbb_cells[i].set_text(nbb_formatted_code);\n",
       "                        }\n",
       "                        break;\n",
       "                    }\n",
       "                }\n",
       "            }, 500);\n",
       "            "
      ],
      "text/plain": [
       "<IPython.core.display.Javascript object>"
      ]
     },
     "metadata": {},
     "output_type": "display_data"
    }
   ],
   "source": [
    "# Logistic Regression hyperparameters\n",
    "l1_hyperparameters = {\n",
    "    'logisticregression__C' : [0.001, 0.005, 0.01, 0.05, 0.1, 0.5, 1, 5, 10, 50, 100, 500, 1000],\n",
    "}\n",
    "\n",
    "l2_hyperparameters = {\n",
    "    'logisticregression__C' : [0.001, 0.005, 0.01, 0.05, 0.1, 0.5, 1, 5, 10, 50, 100, 500, 1000],\n",
    "}\n",
    "\n",
    "# Random Forest hyperparameters\n",
    "rf_hyperparameters = {\n",
    "    'randomforestclassifier__n_estimators': [100, 200],\n",
    "    'randomforestclassifier__max_features': ['auto', 'sqrt', 0.33],\n",
    "    'randomforestclassifier__min_samples_leaf': [1, 3, 5, 10]\n",
    "}\n",
    "\n",
    "# Boosted Tree hyperparameters\n",
    "gb_hyperparameters = {\n",
    "    'gradientboostingclassifier__n_estimators': [100, 200],\n",
    "    'gradientboostingclassifier__learning_rate': [0.05, 0.1, 0.2],\n",
    "    'gradientboostingclassifier__max_depth': [1, 3, 5]\n",
    "}\n"
   ]
  },
  {
   "cell_type": "code",
   "execution_count": 7,
   "id": "74860eb7",
   "metadata": {},
   "outputs": [
    {
     "data": {
      "application/javascript": [
       "\n",
       "            setTimeout(function() {\n",
       "                var nbb_cell_id = 7;\n",
       "                var nbb_unformatted_code = \"# Create hyperparameters dictionary\\nhyperparameters = {\\n    \\\"l1\\\": l1_hyperparameters,\\n    \\\"l2\\\": l2_hyperparameters,\\n    \\\"rf\\\": rf_hyperparameters,\\n    \\\"gb\\\": gb_hyperparameters,\\n}\";\n",
       "                var nbb_formatted_code = \"# Create hyperparameters dictionary\\nhyperparameters = {\\n    \\\"l1\\\": l1_hyperparameters,\\n    \\\"l2\\\": l2_hyperparameters,\\n    \\\"rf\\\": rf_hyperparameters,\\n    \\\"gb\\\": gb_hyperparameters,\\n}\";\n",
       "                var nbb_cells = Jupyter.notebook.get_cells();\n",
       "                for (var i = 0; i < nbb_cells.length; ++i) {\n",
       "                    if (nbb_cells[i].input_prompt_number == nbb_cell_id) {\n",
       "                        if (nbb_cells[i].get_text() == nbb_unformatted_code) {\n",
       "                             nbb_cells[i].set_text(nbb_formatted_code);\n",
       "                        }\n",
       "                        break;\n",
       "                    }\n",
       "                }\n",
       "            }, 500);\n",
       "            "
      ],
      "text/plain": [
       "<IPython.core.display.Javascript object>"
      ]
     },
     "metadata": {},
     "output_type": "display_data"
    }
   ],
   "source": [
    "# Create hyperparameters dictionary\n",
    "hyperparameters = {\n",
    "    \"l1\": l1_hyperparameters,\n",
    "    \"l2\": l2_hyperparameters,\n",
    "    \"rf\": rf_hyperparameters,\n",
    "    \"gb\": gb_hyperparameters,\n",
    "}"
   ]
  },
  {
   "cell_type": "markdown",
   "id": "860836ed",
   "metadata": {},
   "source": [
    "#### Fit and Tune Models with Cross-Validation"
   ]
  },
  {
   "cell_type": "code",
   "execution_count": 8,
   "id": "12cfc094",
   "metadata": {},
   "outputs": [
    {
     "name": "stdout",
     "output_type": "stream",
     "text": [
      "l1 has been fitted.\n",
      "l2 has been fitted.\n",
      "rf has been fitted.\n",
      "gb has been fitted.\n"
     ]
    },
    {
     "data": {
      "application/javascript": [
       "\n",
       "            setTimeout(function() {\n",
       "                var nbb_cell_id = 8;\n",
       "                var nbb_unformatted_code = \"# Create empty dictionary called fitted_models\\nfitted_models = {}\\n\\n# Loop through model pipelines, tuning each one and saving it to fitted_models\\nfor name, pipeline in pipelines.items():\\n    # Create cross-validation object from pipeline and hyperparameters\\n    model = GridSearchCV(pipeline, hyperparameters[name], cv=10, n_jobs=-1)\\n\\n    # Fit model on X_train, y_train\\n    model.fit(X_train, y_train)\\n\\n    # Store model in fitted_models[name]\\n    fitted_models[name] = model\\n\\n    # Print '{name} has been fitted'\\n    print(name, \\\"has been fitted.\\\")\";\n",
       "                var nbb_formatted_code = \"# Create empty dictionary called fitted_models\\nfitted_models = {}\\n\\n# Loop through model pipelines, tuning each one and saving it to fitted_models\\nfor name, pipeline in pipelines.items():\\n    # Create cross-validation object from pipeline and hyperparameters\\n    model = GridSearchCV(pipeline, hyperparameters[name], cv=10, n_jobs=-1)\\n\\n    # Fit model on X_train, y_train\\n    model.fit(X_train, y_train)\\n\\n    # Store model in fitted_models[name]\\n    fitted_models[name] = model\\n\\n    # Print '{name} has been fitted'\\n    print(name, \\\"has been fitted.\\\")\";\n",
       "                var nbb_cells = Jupyter.notebook.get_cells();\n",
       "                for (var i = 0; i < nbb_cells.length; ++i) {\n",
       "                    if (nbb_cells[i].input_prompt_number == nbb_cell_id) {\n",
       "                        if (nbb_cells[i].get_text() == nbb_unformatted_code) {\n",
       "                             nbb_cells[i].set_text(nbb_formatted_code);\n",
       "                        }\n",
       "                        break;\n",
       "                    }\n",
       "                }\n",
       "            }, 500);\n",
       "            "
      ],
      "text/plain": [
       "<IPython.core.display.Javascript object>"
      ]
     },
     "metadata": {},
     "output_type": "display_data"
    }
   ],
   "source": [
    "# Create empty dictionary called fitted_models\n",
    "fitted_models = {}\n",
    "\n",
    "# Loop through model pipelines, tuning each one and saving it to fitted_models\n",
    "for name, pipeline in pipelines.items():\n",
    "    # Create cross-validation object from pipeline and hyperparameters\n",
    "    model = GridSearchCV(pipeline, hyperparameters[name], cv=10, n_jobs=-1)\n",
    "\n",
    "    # Fit model on X_train, y_train\n",
    "    model.fit(X_train, y_train)\n",
    "\n",
    "    # Store model in fitted_models[name]\n",
    "    fitted_models[name] = model\n",
    "\n",
    "    # Print '{name} has been fitted'\n",
    "    print(name, \"has been fitted.\")"
   ]
  },
  {
   "cell_type": "markdown",
   "id": "ba6c514f",
   "metadata": {},
   "source": [
    "#### AUROC Review"
   ]
  },
  {
   "cell_type": "code",
   "execution_count": 9,
   "id": "952f4461",
   "metadata": {},
   "outputs": [
    {
     "name": "stdout",
     "output_type": "stream",
     "text": [
      "l1 0.8493863035326624\n",
      "l2 0.8493863035326624\n",
      "rf 0.9796513913558318\n",
      "gb 0.9752980461811722\n"
     ]
    },
    {
     "data": {
      "application/javascript": [
       "\n",
       "            setTimeout(function() {\n",
       "                var nbb_cell_id = 9;\n",
       "                var nbb_unformatted_code = \"# Display best_score_ for each fitted model\\nfor name, model in fitted_models.items():\\n    print(name, model.best_score_)\";\n",
       "                var nbb_formatted_code = \"# Display best_score_ for each fitted model\\nfor name, model in fitted_models.items():\\n    print(name, model.best_score_)\";\n",
       "                var nbb_cells = Jupyter.notebook.get_cells();\n",
       "                for (var i = 0; i < nbb_cells.length; ++i) {\n",
       "                    if (nbb_cells[i].input_prompt_number == nbb_cell_id) {\n",
       "                        if (nbb_cells[i].get_text() == nbb_unformatted_code) {\n",
       "                             nbb_cells[i].set_text(nbb_formatted_code);\n",
       "                        }\n",
       "                        break;\n",
       "                    }\n",
       "                }\n",
       "            }, 500);\n",
       "            "
      ],
      "text/plain": [
       "<IPython.core.display.Javascript object>"
      ]
     },
     "metadata": {},
     "output_type": "display_data"
    }
   ],
   "source": [
    "# Display best_score_ for each fitted model\n",
    "for name, model in fitted_models.items():\n",
    "    print(name, model.best_score_)"
   ]
  },
  {
   "cell_type": "code",
   "execution_count": 10,
   "id": "26bb9909",
   "metadata": {},
   "outputs": [
    {
     "name": "stdout",
     "output_type": "stream",
     "text": [
      "[0 0 0 0 0 0 0 1 1 0]\n"
     ]
    },
    {
     "data": {
      "application/javascript": [
       "\n",
       "            setTimeout(function() {\n",
       "                var nbb_cell_id = 10;\n",
       "                var nbb_unformatted_code = \"# Predict classes using L1-regularized logistic regression\\npred = fitted_models[\\\"l1\\\"].predict(X_test)\\n\\n# Display first 10 predictions\\nprint(pred[:10])\";\n",
       "                var nbb_formatted_code = \"# Predict classes using L1-regularized logistic regression\\npred = fitted_models[\\\"l1\\\"].predict(X_test)\\n\\n# Display first 10 predictions\\nprint(pred[:10])\";\n",
       "                var nbb_cells = Jupyter.notebook.get_cells();\n",
       "                for (var i = 0; i < nbb_cells.length; ++i) {\n",
       "                    if (nbb_cells[i].input_prompt_number == nbb_cell_id) {\n",
       "                        if (nbb_cells[i].get_text() == nbb_unformatted_code) {\n",
       "                             nbb_cells[i].set_text(nbb_formatted_code);\n",
       "                        }\n",
       "                        break;\n",
       "                    }\n",
       "                }\n",
       "            }, 500);\n",
       "            "
      ],
      "text/plain": [
       "<IPython.core.display.Javascript object>"
      ]
     },
     "metadata": {},
     "output_type": "display_data"
    }
   ],
   "source": [
    "# Predict classes using L1-regularized logistic regression\n",
    "pred = fitted_models[\"l1\"].predict(X_test)\n",
    "\n",
    "# Display first 10 predictions\n",
    "print(pred[:10])"
   ]
  },
  {
   "cell_type": "code",
   "execution_count": 11,
   "id": "f574099f",
   "metadata": {},
   "outputs": [
    {
     "name": "stdout",
     "output_type": "stream",
     "text": [
      "[[1969  172]\n",
      " [ 221  452]]\n"
     ]
    },
    {
     "data": {
      "application/javascript": [
       "\n",
       "            setTimeout(function() {\n",
       "                var nbb_cell_id = 11;\n",
       "                var nbb_unformatted_code = \"# Display confusion matrix for y_test and pred\\nprint(confusion_matrix(y_test, pred))\";\n",
       "                var nbb_formatted_code = \"# Display confusion matrix for y_test and pred\\nprint(confusion_matrix(y_test, pred))\";\n",
       "                var nbb_cells = Jupyter.notebook.get_cells();\n",
       "                for (var i = 0; i < nbb_cells.length; ++i) {\n",
       "                    if (nbb_cells[i].input_prompt_number == nbb_cell_id) {\n",
       "                        if (nbb_cells[i].get_text() == nbb_unformatted_code) {\n",
       "                             nbb_cells[i].set_text(nbb_formatted_code);\n",
       "                        }\n",
       "                        break;\n",
       "                    }\n",
       "                }\n",
       "            }, 500);\n",
       "            "
      ],
      "text/plain": [
       "<IPython.core.display.Javascript object>"
      ]
     },
     "metadata": {},
     "output_type": "display_data"
    }
   ],
   "source": [
    "# Display confusion matrix for y_test and pred\n",
    "print(confusion_matrix(y_test, pred))"
   ]
  },
  {
   "cell_type": "code",
   "execution_count": 12,
   "id": "915a4576",
   "metadata": {},
   "outputs": [
    {
     "name": "stdout",
     "output_type": "stream",
     "text": [
      "[0.03 0.   0.01 0.09 0.07 0.48 0.13 0.62 0.73 0.14]\n"
     ]
    },
    {
     "data": {
      "application/javascript": [
       "\n",
       "            setTimeout(function() {\n",
       "                var nbb_cell_id = 12;\n",
       "                var nbb_unformatted_code = \"# Predict PROBABILITIES using L1-regularized logistic regression\\npred = fitted_models[\\\"l1\\\"].predict_proba(X_test)\\n\\n# Get just the prediction for the positive class (1)\\npred = [p[1] for p in pred]\\n\\n# Display first 10 predictions\\nprint(np.round(pred[:10], 2))\";\n",
       "                var nbb_formatted_code = \"# Predict PROBABILITIES using L1-regularized logistic regression\\npred = fitted_models[\\\"l1\\\"].predict_proba(X_test)\\n\\n# Get just the prediction for the positive class (1)\\npred = [p[1] for p in pred]\\n\\n# Display first 10 predictions\\nprint(np.round(pred[:10], 2))\";\n",
       "                var nbb_cells = Jupyter.notebook.get_cells();\n",
       "                for (var i = 0; i < nbb_cells.length; ++i) {\n",
       "                    if (nbb_cells[i].input_prompt_number == nbb_cell_id) {\n",
       "                        if (nbb_cells[i].get_text() == nbb_unformatted_code) {\n",
       "                             nbb_cells[i].set_text(nbb_formatted_code);\n",
       "                        }\n",
       "                        break;\n",
       "                    }\n",
       "                }\n",
       "            }, 500);\n",
       "            "
      ],
      "text/plain": [
       "<IPython.core.display.Javascript object>"
      ]
     },
     "metadata": {},
     "output_type": "display_data"
    }
   ],
   "source": [
    "# Predict PROBABILITIES using L1-regularized logistic regression\n",
    "pred = fitted_models[\"l1\"].predict_proba(X_test)\n",
    "\n",
    "# Get just the prediction for the positive class (1)\n",
    "pred = [p[1] for p in pred]\n",
    "\n",
    "# Display first 10 predictions\n",
    "print(np.round(pred[:10], 2))"
   ]
  },
  {
   "cell_type": "code",
   "execution_count": 13,
   "id": "b8538855",
   "metadata": {},
   "outputs": [
    {
     "data": {
      "application/javascript": [
       "\n",
       "            setTimeout(function() {\n",
       "                var nbb_cell_id = 13;\n",
       "                var nbb_unformatted_code = \"# Calculate ROC curve from y_test and pred\\nfpr, tpr, thresholds = roc_curve(y_test, pred)\";\n",
       "                var nbb_formatted_code = \"# Calculate ROC curve from y_test and pred\\nfpr, tpr, thresholds = roc_curve(y_test, pred)\";\n",
       "                var nbb_cells = Jupyter.notebook.get_cells();\n",
       "                for (var i = 0; i < nbb_cells.length; ++i) {\n",
       "                    if (nbb_cells[i].input_prompt_number == nbb_cell_id) {\n",
       "                        if (nbb_cells[i].get_text() == nbb_unformatted_code) {\n",
       "                             nbb_cells[i].set_text(nbb_formatted_code);\n",
       "                        }\n",
       "                        break;\n",
       "                    }\n",
       "                }\n",
       "            }, 500);\n",
       "            "
      ],
      "text/plain": [
       "<IPython.core.display.Javascript object>"
      ]
     },
     "metadata": {},
     "output_type": "display_data"
    }
   ],
   "source": [
    "# Calculate ROC curve from y_test and pred\n",
    "fpr, tpr, thresholds = roc_curve(y_test, pred)"
   ]
  },
  {
   "cell_type": "code",
   "execution_count": 14,
   "id": "27a86c6d",
   "metadata": {},
   "outputs": [
    {
     "data": {
      "image/png": "[encoded data removed]",
      "text/plain": [
       "<Figure size 648x648 with 1 Axes>"
      ]
     },
     "metadata": {},
     "output_type": "display_data"
    },
    {
     "data": {
      "application/javascript": [
       "\n",
       "            setTimeout(function() {\n",
       "                var nbb_cell_id = 14;\n",
       "                var nbb_unformatted_code = \"# Initialize figure\\nfig = plt.figure(figsize=(9,9))\\nplt.title('Receiver Operating Characteristic')\\n\\n# Plot ROC curve\\nplt.plot(fpr, tpr, label='l1')\\nplt.legend(loc='lower right')\\n\\n# Diagonal 45 degree line\\nplt.plot([0,1],[0,1],'k--')\\n\\n# Axes limits and labels\\nplt.xlim([-0.1,1.1])\\nplt.ylim([-0.1,1.1])\\nplt.ylabel('True Positive Rate')\\nplt.xlabel('False Positive Rate')\\nplt.show()\";\n",
       "                var nbb_formatted_code = \"# Initialize figure\\nfig = plt.figure(figsize=(9, 9))\\nplt.title(\\\"Receiver Operating Characteristic\\\")\\n\\n# Plot ROC curve\\nplt.plot(fpr, tpr, label=\\\"l1\\\")\\nplt.legend(loc=\\\"lower right\\\")\\n\\n# Diagonal 45 degree line\\nplt.plot([0, 1], [0, 1], \\\"k--\\\")\\n\\n# Axes limits and labels\\nplt.xlim([-0.1, 1.1])\\nplt.ylim([-0.1, 1.1])\\nplt.ylabel(\\\"True Positive Rate\\\")\\nplt.xlabel(\\\"False Positive Rate\\\")\\nplt.show()\";\n",
       "                var nbb_cells = Jupyter.notebook.get_cells();\n",
       "                for (var i = 0; i < nbb_cells.length; ++i) {\n",
       "                    if (nbb_cells[i].input_prompt_number == nbb_cell_id) {\n",
       "                        if (nbb_cells[i].get_text() == nbb_unformatted_code) {\n",
       "                             nbb_cells[i].set_text(nbb_formatted_code);\n",
       "                        }\n",
       "                        break;\n",
       "                    }\n",
       "                }\n",
       "            }, 500);\n",
       "            "
      ],
      "text/plain": [
       "<IPython.core.display.Javascript object>"
      ]
     },
     "metadata": {},
     "output_type": "display_data"
    }
   ],
   "source": [
    "# Initialize figure\n",
    "fig = plt.figure(figsize=(9,9))\n",
    "plt.title('Receiver Operating Characteristic')\n",
    "\n",
    "# Plot ROC curve\n",
    "plt.plot(fpr, tpr, label='l1')\n",
    "plt.legend(loc='lower right')\n",
    "\n",
    "# Diagonal 45 degree line\n",
    "plt.plot([0,1],[0,1],'k--')\n",
    "\n",
    "# Axes limits and labels\n",
    "plt.xlim([-0.1,1.1])\n",
    "plt.ylim([-0.1,1.1])\n",
    "plt.ylabel('True Positive Rate')\n",
    "plt.xlabel('False Positive Rate')\n",
    "plt.show()\n"
   ]
  },
  {
   "cell_type": "code",
   "execution_count": 15,
   "id": "31a848f2",
   "metadata": {},
   "outputs": [
    {
     "name": "stdout",
     "output_type": "stream",
     "text": [
      "0.9015388373737675\n"
     ]
    },
    {
     "data": {
      "application/javascript": [
       "\n",
       "            setTimeout(function() {\n",
       "                var nbb_cell_id = 15;\n",
       "                var nbb_unformatted_code = \"# Calculate AUROC\\nprint(roc_auc_score(y_test, pred))\";\n",
       "                var nbb_formatted_code = \"# Calculate AUROC\\nprint(roc_auc_score(y_test, pred))\";\n",
       "                var nbb_cells = Jupyter.notebook.get_cells();\n",
       "                for (var i = 0; i < nbb_cells.length; ++i) {\n",
       "                    if (nbb_cells[i].input_prompt_number == nbb_cell_id) {\n",
       "                        if (nbb_cells[i].get_text() == nbb_unformatted_code) {\n",
       "                             nbb_cells[i].set_text(nbb_formatted_code);\n",
       "                        }\n",
       "                        break;\n",
       "                    }\n",
       "                }\n",
       "            }, 500);\n",
       "            "
      ],
      "text/plain": [
       "<IPython.core.display.Javascript object>"
      ]
     },
     "metadata": {},
     "output_type": "display_data"
    }
   ],
   "source": [
    "# Calculate AUROC\n",
    "print(roc_auc_score(y_test, pred))"
   ]
  },
  {
   "cell_type": "markdown",
   "id": "b824818e",
   "metadata": {},
   "source": [
    "#### Pick the Winner"
   ]
  },
  {
   "cell_type": "code",
   "execution_count": 16,
   "id": "f7881d3a",
   "metadata": {},
   "outputs": [
    {
     "name": "stdout",
     "output_type": "stream",
     "text": [
      "l1 0.9015388373737675\n",
      "l2 0.9015409194159456\n",
      "rf 0.9915194952019338\n",
      "gb 0.988678201643009\n"
     ]
    },
    {
     "data": {
      "application/javascript": [
       "\n",
       "            setTimeout(function() {\n",
       "                var nbb_cell_id = 16;\n",
       "                var nbb_unformatted_code = \"for name, model in fitted_models.items():\\n    pred = model.predict_proba(X_test)\\n    pred = [p[1] for p in pred]\\n\\n    print(name, roc_auc_score(y_test, pred))\";\n",
       "                var nbb_formatted_code = \"for name, model in fitted_models.items():\\n    pred = model.predict_proba(X_test)\\n    pred = [p[1] for p in pred]\\n\\n    print(name, roc_auc_score(y_test, pred))\";\n",
       "                var nbb_cells = Jupyter.notebook.get_cells();\n",
       "                for (var i = 0; i < nbb_cells.length; ++i) {\n",
       "                    if (nbb_cells[i].input_prompt_number == nbb_cell_id) {\n",
       "                        if (nbb_cells[i].get_text() == nbb_unformatted_code) {\n",
       "                             nbb_cells[i].set_text(nbb_formatted_code);\n",
       "                        }\n",
       "                        break;\n",
       "                    }\n",
       "                }\n",
       "            }, 500);\n",
       "            "
      ],
      "text/plain": [
       "<IPython.core.display.Javascript object>"
      ]
     },
     "metadata": {},
     "output_type": "display_data"
    }
   ],
   "source": [
    "for name, model in fitted_models.items():\n",
    "    pred = model.predict_proba(X_test)\n",
    "    pred = [p[1] for p in pred]\n",
    "\n",
    "    print(name, roc_auc_score(y_test, pred))"
   ]
  },
  {
   "cell_type": "code",
   "execution_count": 17,
   "id": "c13757be",
   "metadata": {},
   "outputs": [
    {
     "data": {
      "application/javascript": [
       "\n",
       "            setTimeout(function() {\n",
       "                var nbb_cell_id = 17;\n",
       "                var nbb_unformatted_code = \"# Save winning model as final_model.pkl\\nwith open(\\\"final_model.pkl\\\", \\\"wb\\\") as f:\\n    pickle.dump(fitted_models[\\\"rf\\\"].best_estimator_, f)\";\n",
       "                var nbb_formatted_code = \"# Save winning model as final_model.pkl\\nwith open(\\\"final_model.pkl\\\", \\\"wb\\\") as f:\\n    pickle.dump(fitted_models[\\\"rf\\\"].best_estimator_, f)\";\n",
       "                var nbb_cells = Jupyter.notebook.get_cells();\n",
       "                for (var i = 0; i < nbb_cells.length; ++i) {\n",
       "                    if (nbb_cells[i].input_prompt_number == nbb_cell_id) {\n",
       "                        if (nbb_cells[i].get_text() == nbb_unformatted_code) {\n",
       "                             nbb_cells[i].set_text(nbb_formatted_code);\n",
       "                        }\n",
       "                        break;\n",
       "                    }\n",
       "                }\n",
       "            }, 500);\n",
       "            "
      ],
      "text/plain": [
       "<IPython.core.display.Javascript object>"
      ]
     },
     "metadata": {},
     "output_type": "display_data"
    }
   ],
   "source": [
    "# Save winning model as final_model.pkl\n",
    "with open(\"final_model.pkl\", \"wb\") as f:\n",
    "    pickle.dump(fitted_models[\"rf\"].best_estimator_, f)"
   ]
  }
 ],
 "metadata": {
  "kernelspec": {
   "display_name": "Python 3 (ipykernel)",
   "language": "python",
   "name": "python3"
  },
  "language_info": {
   "codemirror_mode": {
    "name": "ipython",
    "version": 3
   },
   "file_extension": ".py",
   "mimetype": "text/x-python",
   "name": "python",
   "nbconvert_exporter": "python",
   "pygments_lexer": "ipython3",
   "version": "3.9.7"
  }
 },
 "nbformat": 4,
 "nbformat_minor": 5
}
